{
 "cells": [
  {
   "cell_type": "code",
   "execution_count": 1,
   "metadata": {},
   "outputs": [],
   "source": [
    "import pandas as pd\n",
    "import numpy as np\n",
    "import multiprocessing\n",
    "import matplotlib.pyplot as plt\n",
    "import seaborn as sns\n",
    "from sklearn import linear_model"
   ]
  },
  {
   "cell_type": "code",
   "execution_count": 2,
   "metadata": {},
   "outputs": [],
   "source": [
    "rules = pd.read_csv(\"recommend-output.csv\")\n",
    "#to_lib2max_freq = {to_lib: max(row[\"ruleFreqSameCommit\"]) for to_lib, row in rules.groupby(by=\"toLib\")}\n",
    "#rules[\"ruleFreqToLibSameCommit\"] = rules[\"ruleFreqSameCommit\"] / rules[\"toLib\"].apply(lambda x: to_lib2max_freq[x])\n",
    "#rules.insert(4, \"confTeyton\", np.minimum(rules[\"ruleFreqSameCommit\"], rules[\"ruleFreqToLibSameCommit\"]).fillna(0))\n",
    "to_lib2cnt = {to_lib: len(rows) for to_lib, rows in rules.groupby(by=\"toLib\")}\n",
    "from_lib2cnt = {from_lib: len(rows) for from_lib, rows in rules.groupby(by=\"fromLib\")}\n",
    "rules[\"confTeyton\"] = (rules[\"ruleCountSameCommit\"] / np.maximum(\n",
    "    rules[\"toLib\"].apply(lambda x: to_lib2cnt[x]),\n",
    "    rules[\"fromLib\"].apply(lambda x: from_lib2cnt[x])\n",
    ")).fillna(0)\n",
    "# to_lib2max_freq = {to_lib: max(row[\"ruleFreq\"]) for to_lib, row in rules.groupby(by=\"toLib\")}\n",
    "# rules[\"ruleFreqToLib\"] = rules[\"ruleFreq\"] / rules[\"toLib\"].apply(lambda x: to_lib2max_freq[x])\n",
    "# rules[\"popularityRegularization\"] = rules[\"ruleFreq\"] * rules[\"concurrenceAdjustment\"]\n",
    "# from_lib2max_count = {from_lib: max(row[\"possibleCommitCount\"]) for from_lib, row in rules.groupby(by=\"fromLib\")}\n",
    "# rules[\"commitMessageSupport\"] = [x / (from_lib2max_count[from_lib] + 1) for from_lib, x in zip(rules[\"fromLib\"], rules[\"possibleCommitCount\"])]"
   ]
  },
  {
   "cell_type": "code",
   "execution_count": 3,
   "metadata": {},
   "outputs": [
    {
     "data": {
      "text/plain": [
       "(195, 1)"
      ]
     },
     "execution_count": 3,
     "metadata": {},
     "output_type": "execute_result"
    }
   ],
   "source": [
    "from_libs = set()\n",
    "with open(\"from-lib-confirmed.txt\", \"r\") as f:\n",
    "    from_libs = set(x.strip() for x in f)\n",
    "len(from_libs), len(from_libs - set(rules[\"fromLib\"]))"
   ]
  },
  {
   "cell_type": "code",
   "execution_count": 4,
   "metadata": {},
   "outputs": [
    {
     "name": "stdout",
     "output_type": "stream",
     "text": [
      "# rules = 243152, # confirmed = 773, # possible = 1446, # confirmed from libs = 190\n"
     ]
    }
   ],
   "source": [
    "ground_truth = pd.read_excel(\"manual/ground-truth.xlsx\")\n",
    "rules_existed = set(zip(rules[\"fromLib\"], rules[\"toLib\"]))\n",
    "confirmed_rule_set = set(zip(\n",
    "    ground_truth[ground_truth[\"isConfirmed\"]][\"fromLib\"], \n",
    "    ground_truth[ground_truth[\"isConfirmed\"]][\"toLib\"]\n",
    ")) & rules_existed\n",
    "possible_rule_set = (set(zip(\n",
    "    ground_truth[ground_truth[\"ruleCount\"] > 0][\"fromLib\"], \n",
    "    ground_truth[ground_truth[\"ruleCount\"] > 0][\"toLib\"]\n",
    ")) | confirmed_rule_set) & rules_existed\n",
    "\n",
    "rules[\"isPossible\"] = [x in possible_rule_set for x in zip(rules[\"fromLib\"], rules[\"toLib\"])]\n",
    "# rules.insert(2, \"isConfirmed\", [x in confirmed_rule_set for x in zip(rules[\"fromLib\"], rules[\"toLib\"])])\n",
    "possible_rules = rules[rules[\"isPossible\"]]\n",
    "confirmed_rules = rules[rules[\"isConfirmed\"]]\n",
    "other_rules = rules[~rules[\"isConfirmed\"] & ~rules[\"isPossible\"]]\n",
    "print(\"# rules = {}, # confirmed = {}, # possible = {}, # confirmed from libs = {}\".format(\n",
    "    len(rules), len(confirmed_rule_set), len(possible_rule_set), \n",
    "    len(set(x[0] for x in confirmed_rule_set))\n",
    "))"
   ]
  },
  {
   "cell_type": "code",
   "execution_count": 5,
   "metadata": {},
   "outputs": [],
   "source": [
    "def evaluate(method, rules, possible_rules, confirmed_rules):\n",
    "    top_k = 100\n",
    "    top_rules = [list() for x in range(0, top_k)]\n",
    "    ndcg_possible_at_k = [list() for x in range(0, top_k)]\n",
    "    ndcg_confirmed_at_k = [list() for x in range(0, top_k)]\n",
    "    from_lib_set = set(x for x, y in confirmed_rules)\n",
    "    reciprocal_ranks_confirmed = {}\n",
    "    reciprocal_ranks_possible = {}\n",
    "    for from_lib, candidates in rules.groupby(by=\"fromLib\"):\n",
    "        if from_lib not in from_lib_set:\n",
    "            continue\n",
    "        this_rules = [(from_lib, to_lib) for to_lib in candidates[\"toLib\"]]\n",
    "        this_possible_rules = [(from_lib, to_lib) for from_lib, to_lib in this_rules if (from_lib, to_lib) in possible_rules]\n",
    "        this_confirmed_rules = [(from_lib, to_lib) for from_lib, to_lib in this_rules if (from_lib, to_lib) in confirmed_rules]\n",
    "        last_k, last_ndcg = 0, 0\n",
    "        for k, (from_lib, to_lib) in enumerate(this_rules):\n",
    "            if k >= top_k:\n",
    "                continue\n",
    "            last_k = k\n",
    "            top_rules[k].append((from_lib, to_lib))\n",
    "            if (from_lib, to_lib) in possible_rules and from_lib not in reciprocal_ranks_possible:\n",
    "                reciprocal_ranks_possible[from_lib] = 1 / (k + 1)\n",
    "            if (from_lib, to_lib) in confirmed_rules and from_lib not in reciprocal_ranks_confirmed:\n",
    "                reciprocal_ranks_confirmed[from_lib] = 1 / (k + 1)\n",
    "            dcg_p = sum(int((from_lib, to_lib) in possible_rules) / np.log2(i+2) for i, (from_lib, to_lib) in enumerate(this_rules[0:k+1]))\n",
    "            idcg_p = sum(1 / np.log2(i+2) for i in range(0, min(k + 1, len(this_possible_rules))))\n",
    "            if idcg_p == 0:\n",
    "                ndcg_possible_at_k[k].append(0)\n",
    "            else:\n",
    "                ndcg_possible_at_k[k].append(dcg_p / idcg_p)\n",
    "            dcg_c = sum(int((from_lib, to_lib) in confirmed_rules) / np.log2(i+2) for i, (from_lib, to_lib) in enumerate(this_rules[0:k+1]))\n",
    "            idcg_c = sum(1 / np.log2(i+2) for i in range(0, min(k + 1, len(this_confirmed_rules))))\n",
    "            if idcg_c == 0:\n",
    "                ndcg_confirmed_at_k[k].append(0)\n",
    "                last_ndcg = 0\n",
    "            else:\n",
    "                ndcg_confirmed_at_k[k].append(dcg_c / idcg_c)\n",
    "                last_ndcg = dcg_c / idcg_c\n",
    "        for k in range(last_k + 1, top_k):\n",
    "            ndcg_confirmed_at_k[k].append(last_ndcg)\n",
    "        if from_lib not in reciprocal_ranks_possible:\n",
    "            reciprocal_ranks_possible[from_lib] = 0\n",
    "        if from_lib not in reciprocal_ranks_confirmed:\n",
    "            reciprocal_ranks_confirmed[from_lib] = 0\n",
    "    for k in range(1, top_k):\n",
    "        top_rules[k] += top_rules[k - 1] \n",
    "    result = {\n",
    "        \"Name\": method,\n",
    "        \"FromLibCount\": len(from_lib_set & set(rules[\"fromLib\"])),\n",
    "        \"MRR-C\": np.mean(list(reciprocal_ranks_confirmed.values())),\n",
    "        \"MRR-P\": np.mean(list(reciprocal_ranks_possible.values())),\n",
    "        \"Precision-C@k\": [],\n",
    "        \"Precision-P@k\": [],\n",
    "        \"Recall-C@k\": [],\n",
    "        \"Recall-P@k\": [],\n",
    "        \"NDCG-C@k\": [],\n",
    "        \"NDCG-P@k\": [],\n",
    "    }\n",
    "    for k in range(0, top_k):\n",
    "        precision = len([x for x in top_rules[k] if x in confirmed_rules]) / len(top_rules[k])\n",
    "        recall = len([x for x in top_rules[k] if x in confirmed_rules]) / len(confirmed_rules)\n",
    "        precision_possible = len([x for x in top_rules[k] if x in possible_rules]) / len(top_rules[k])\n",
    "        recall_possible = len([x for x in top_rules[k] if x in possible_rules]) / len(possible_rules)\n",
    "        result[\"Precision-C@k\"].append(precision)\n",
    "        result[\"Precision-P@k\"].append(precision_possible)\n",
    "        result[\"Recall-C@k\"].append(recall)\n",
    "        result[\"Recall-P@k\"].append(recall_possible)\n",
    "        result[\"NDCG-C@k\"].append(np.mean(ndcg_confirmed_at_k[k]))\n",
    "        result[\"NDCG-P@k\"].append(np.mean(ndcg_possible_at_k[k]))\n",
    "    return result\n",
    "def print_evaluation_result(result):\n",
    "    print(\"Result of {} on {} Library Queries:\".format(result[\"Name\"], result[\"FromLibCount\"]))\n",
    "    print(\"MRR-C/P = {}/{}\".format(result[\"MRR-C\"], result[\"MRR-P\"]))\n",
    "    for k in range(0, len(result[\"Precision-C@k\"])):\n",
    "        if k + 1 > 10 and (k + 1) % 10 != 0:\n",
    "            continue\n",
    "        print(\"Top {:3}: Precision = {:0.4f}, Recall = {:0.4f}, NDCG = {:0.4f}\"\n",
    "              .format(k + 1, result[\"Precision-C@k\"][k], result[\"Recall-C@k\"][k], result[\"NDCG-C@k\"][k]))\n",
    "def print_one_line_evaluation_result(result):\n",
    "    print(\"{:30}: Precision@1 = {:0.4f}, MRR = {:0.4f}, Recall@5 = {:0.4f}, Recall@10 = {:0.4f}, \"\n",
    "         \"Recall@20 = {:0.4f}, NDCG@10 = {:0.4f}\".format(\n",
    "             result[\"Name\"],\n",
    "             result[\"Precision-C@k\"][0],\n",
    "             result[\"MRR-C\"],\n",
    "             result[\"Recall-C@k\"][4],\n",
    "             result[\"Recall-C@k\"][9],\n",
    "             result[\"Recall-C@k\"][19],\n",
    "             result[\"NDCG-C@k\"][9]\n",
    "         ))"
   ]
  },
  {
   "cell_type": "code",
   "execution_count": 6,
   "metadata": {},
   "outputs": [
    {
     "name": "stdout",
     "output_type": "stream",
     "text": [
      "Result of Our Method on 190 Library Queries:\n",
      "MRR-C/P = 0.8565813287461487/0.8565813287461487\n",
      "Top   1: Precision = 0.7947, Recall = 0.1953, NDCG = 0.7947\n",
      "Top   2: Precision = 0.6614, Recall = 0.3234, NDCG = 0.7836\n",
      "Top   3: Precision = 0.5583, Recall = 0.4088, NDCG = 0.7669\n",
      "Top   4: Precision = 0.4907, Recall = 0.4787, NDCG = 0.7640\n",
      "Top   5: Precision = 0.4374, Recall = 0.5330, NDCG = 0.7611\n",
      "Top   6: Precision = 0.3912, Recall = 0.5718, NDCG = 0.7580\n",
      "Top   7: Precision = 0.3584, Recall = 0.6106, NDCG = 0.7594\n",
      "Top   8: Precision = 0.3351, Recall = 0.6520, NDCG = 0.7639\n",
      "Top   9: Precision = 0.3146, Recall = 0.6882, NDCG = 0.7690\n",
      "Top  10: Precision = 0.2918, Recall = 0.7089, NDCG = 0.7702\n",
      "Top  20: Precision = 0.1849, Recall = 0.8939, NDCG = 0.8123\n",
      "Top  30: Precision = 0.1288, Recall = 0.9276, NDCG = 0.8220\n",
      "Top  40: Precision = 0.0986, Recall = 0.9405, NDCG = 0.8253\n",
      "Top  50: Precision = 0.0803, Recall = 0.9483, NDCG = 0.8268\n",
      "Top  60: Precision = 0.0678, Recall = 0.9547, NDCG = 0.8285\n",
      "Top  70: Precision = 0.0591, Recall = 0.9638, NDCG = 0.8311\n",
      "Top  80: Precision = 0.0524, Recall = 0.9690, NDCG = 0.8323\n",
      "Top  90: Precision = 0.0469, Recall = 0.9702, NDCG = 0.8326\n",
      "Top 100: Precision = 0.0425, Recall = 0.9702, NDCG = 0.8326\n"
     ]
    }
   ],
   "source": [
    "def our_method(rules):\n",
    "    rules[\"confidence\"] = (\n",
    "        # np.minimum(0.15, rules[\"confTeyton\"])\n",
    "        # np.log2(rules[\"confTeyton\"] + 1)\n",
    "        # rules[\"confTeyton\"]\n",
    "        rules[\"ruleFreqSameCommit\"]\n",
    "        # * rules[\"ruleFreq\"]\n",
    "        # * rules[\"ruleCount\"] / rules[\"concurrence\"]\n",
    "        # * rules[\"concurrenceAdjustment\"]\n",
    "        # * np.minimum(rules[\"ruleFreq\"], rules[\"ruleFreqToLib\"])\n",
    "        * np.maximum(0.1, rules[\"apiSupport\"])\n",
    "        # * rules[\"positionSupport\"] \n",
    "        * rules[\"commitDistance\"]\n",
    "        * np.log2(rules[\"possibleCommitCount\"] + 1)\n",
    "        # * np.maximum(0.2, rules[\"commitMessageSupport\"])\n",
    "        # * np.minimum(rules[\"similarity\"], 0.1)\n",
    "    )\n",
    "    return rules.sort_values(by=[\"fromLib\", \"confidence\"], ascending=[True, False])\n",
    "result = evaluate(\"Our Method\", our_method(rules), possible_rule_set, confirmed_rule_set)\n",
    "print_evaluation_result(result)\n",
    "our_method(rules).to_csv(\"recommend-output.csv\", index=False)"
   ]
  },
  {
   "cell_type": "code",
   "execution_count": 7,
   "metadata": {},
   "outputs": [
    {
     "name": "stdout",
     "output_type": "stream",
     "text": [
      "Result of Teyton et al. 2013 on 190 Library Queries:\n",
      "MRR-C/P = 0.7343122122015057/0.7405544043198736\n",
      "Top   1: Precision = 0.6684, Recall = 0.1643, NDCG = 0.6684\n",
      "Top   2: Precision = 0.5053, Recall = 0.2471, NDCG = 0.6125\n",
      "Top   3: Precision = 0.4240, Recall = 0.3105, NDCG = 0.5960\n",
      "Top   4: Precision = 0.3740, Recall = 0.3648, NDCG = 0.5888\n",
      "Top   5: Precision = 0.3397, Recall = 0.4140, NDCG = 0.5878\n",
      "Top   6: Precision = 0.3150, Recall = 0.4605, NDCG = 0.5943\n",
      "Top   7: Precision = 0.2946, Recall = 0.5019, NDCG = 0.5991\n",
      "Top   8: Precision = 0.2739, Recall = 0.5330, NDCG = 0.6005\n",
      "Top   9: Precision = 0.2578, Recall = 0.5640, NDCG = 0.6063\n",
      "Top  10: Precision = 0.2417, Recall = 0.5873, NDCG = 0.6091\n",
      "Top  20: Precision = 0.1490, Recall = 0.7206, NDCG = 0.6428\n",
      "Top  30: Precision = 0.1097, Recall = 0.7904, NDCG = 0.6617\n",
      "Top  40: Precision = 0.0882, Recall = 0.8409, NDCG = 0.6747\n",
      "Top  50: Precision = 0.0738, Recall = 0.8719, NDCG = 0.6824\n",
      "Top  60: Precision = 0.0640, Recall = 0.9017, NDCG = 0.6900\n",
      "Top  70: Precision = 0.0558, Recall = 0.9107, NDCG = 0.6918\n",
      "Top  80: Precision = 0.0499, Recall = 0.9224, NDCG = 0.6940\n",
      "Top  90: Precision = 0.0450, Recall = 0.9314, NDCG = 0.6963\n",
      "Top 100: Precision = 0.0412, Recall = 0.9405, NDCG = 0.6985\n"
     ]
    }
   ],
   "source": [
    "def teyton_2013(rules):\n",
    "    return rules.sample(frac=1).sort_values(by=[\"fromLib\", \"confTeyton\"], ascending=[True, False])\n",
    "result = evaluate(\"Teyton et al. 2013\", teyton_2013(rules), possible_rule_set, confirmed_rule_set)\n",
    "print_evaluation_result(result)"
   ]
  },
  {
   "cell_type": "code",
   "execution_count": 8,
   "metadata": {},
   "outputs": [
    {
     "name": "stdout",
     "output_type": "stream",
     "text": [
      "Result of Teyton et al. 2013 on 185 Library Queries:\n",
      "MRR-C/P = 0.7423293970662392/0.7458043005411426\n",
      "Top   1: Precision = 0.6865, Recall = 0.1643, NDCG = 0.6865\n",
      "Top   2: Precision = 0.5291, Recall = 0.2471, NDCG = 0.6513\n",
      "Top   3: Precision = 0.4535, Recall = 0.3092, NDCG = 0.6495\n",
      "Top   4: Precision = 0.4073, Recall = 0.3609, NDCG = 0.6530\n",
      "Top   5: Precision = 0.3690, Recall = 0.4010, NDCG = 0.6547\n",
      "Top   6: Precision = 0.3489, Recall = 0.4450, NDCG = 0.6656\n",
      "Top   7: Precision = 0.3265, Recall = 0.4748, NDCG = 0.6706\n",
      "Top   8: Precision = 0.3116, Recall = 0.5058, NDCG = 0.6782\n",
      "Top   9: Precision = 0.2975, Recall = 0.5291, NDCG = 0.6845\n",
      "Top  10: Precision = 0.2843, Recall = 0.5472, NDCG = 0.6893\n",
      "Top  20: Precision = 0.2105, Recall = 0.6352, NDCG = 0.7166\n",
      "Top  30: Precision = 0.1833, Recall = 0.6649, NDCG = 0.7265\n",
      "Top  40: Precision = 0.1698, Recall = 0.6701, NDCG = 0.7285\n",
      "Top  50: Precision = 0.1636, Recall = 0.6714, NDCG = 0.7288\n",
      "Top  60: Precision = 0.1606, Recall = 0.6740, NDCG = 0.7307\n",
      "Top  70: Precision = 0.1586, Recall = 0.6740, NDCG = 0.7307\n",
      "Top  80: Precision = 0.1576, Recall = 0.6740, NDCG = 0.7307\n",
      "Top  90: Precision = 0.1566, Recall = 0.6740, NDCG = 0.7307\n",
      "Top 100: Precision = 0.1559, Recall = 0.6740, NDCG = 0.7307\n"
     ]
    }
   ],
   "source": [
    "def teyton_20132(rules):\n",
    "    return rules[rules[\"confTeyton\"]>=0.002].sample(frac=1).sort_values(by=[\"fromLib\", \"confTeyton\"], ascending=[True, False])\n",
    "result = evaluate(\"Teyton et al. 2013\", teyton_20132(rules), possible_rule_set, confirmed_rule_set)\n",
    "print_evaluation_result(result)"
   ]
  },
  {
   "cell_type": "code",
   "execution_count": 9,
   "metadata": {},
   "outputs": [
    {
     "name": "stdout",
     "output_type": "stream",
     "text": [
      "Result of Teyton et al. 2013 on 185 Library Queries:\n",
      "MRR-C/P = 0.7252726260094682/0.7331555088923511\n",
      "Top   1: Precision = 0.6595, Recall = 0.1578, NDCG = 0.6595\n",
      "Top   2: Precision = 0.5208, Recall = 0.2432, NDCG = 0.6360\n",
      "Top   3: Precision = 0.4554, Recall = 0.3105, NDCG = 0.6397\n",
      "Top   4: Precision = 0.4029, Recall = 0.3571, NDCG = 0.6409\n",
      "Top   5: Precision = 0.3690, Recall = 0.4010, NDCG = 0.6468\n",
      "Top   6: Precision = 0.3489, Recall = 0.4450, NDCG = 0.6568\n",
      "Top   7: Precision = 0.3283, Recall = 0.4774, NDCG = 0.6636\n",
      "Top   8: Precision = 0.3124, Recall = 0.5071, NDCG = 0.6713\n",
      "Top   9: Precision = 0.2989, Recall = 0.5317, NDCG = 0.6783\n",
      "Top  10: Precision = 0.2836, Recall = 0.5459, NDCG = 0.6802\n",
      "Top  20: Precision = 0.2123, Recall = 0.6404, NDCG = 0.7103\n",
      "Top  30: Precision = 0.1826, Recall = 0.6624, NDCG = 0.7183\n",
      "Top  40: Precision = 0.1698, Recall = 0.6701, NDCG = 0.7210\n",
      "Top  50: Precision = 0.1636, Recall = 0.6714, NDCG = 0.7216\n",
      "Top  60: Precision = 0.1606, Recall = 0.6740, NDCG = 0.7228\n",
      "Top  70: Precision = 0.1586, Recall = 0.6740, NDCG = 0.7228\n",
      "Top  80: Precision = 0.1576, Recall = 0.6740, NDCG = 0.7228\n",
      "Top  90: Precision = 0.1566, Recall = 0.6740, NDCG = 0.7228\n",
      "Top 100: Precision = 0.1559, Recall = 0.6740, NDCG = 0.7228\n"
     ]
    }
   ],
   "source": [
    "def teyton_20133(rules):\n",
    "    return rules[rules[\"confTeyton\"]>=0.015].sample(frac=1).sort_values(by=[\"fromLib\", \"confTeyton\"], ascending=[True, False])\n",
    "result = evaluate(\"Teyton et al. 2013\", teyton_20132(rules), possible_rule_set, confirmed_rule_set)\n",
    "print_evaluation_result(result)"
   ]
  },
  {
   "cell_type": "code",
   "execution_count": 10,
   "metadata": {},
   "outputs": [
    {
     "name": "stdout",
     "output_type": "stream",
     "text": [
      "Result of Alrubaye et al. 2019 on 34 Library Queries:\n",
      "MRR-C/P = 0.9411764705882353/0.9411764705882353\n",
      "Top   1: Precision = 0.9412, Recall = 0.0414, NDCG = 0.9412\n",
      "Top   2: Precision = 0.9250, Recall = 0.0479, NDCG = 0.9412\n",
      "Top   3: Precision = 0.9268, Recall = 0.0492, NDCG = 0.9412\n",
      "Top   4: Precision = 0.9268, Recall = 0.0492, NDCG = 0.9412\n",
      "Top   5: Precision = 0.9268, Recall = 0.0492, NDCG = 0.9412\n",
      "Top   6: Precision = 0.9268, Recall = 0.0492, NDCG = 0.9412\n",
      "Top   7: Precision = 0.9268, Recall = 0.0492, NDCG = 0.9412\n",
      "Top   8: Precision = 0.9268, Recall = 0.0492, NDCG = 0.9412\n",
      "Top   9: Precision = 0.9268, Recall = 0.0492, NDCG = 0.9412\n",
      "Top  10: Precision = 0.9268, Recall = 0.0492, NDCG = 0.9412\n",
      "Top  20: Precision = 0.9268, Recall = 0.0492, NDCG = 0.9412\n",
      "Top  30: Precision = 0.9268, Recall = 0.0492, NDCG = 0.9412\n",
      "Top  40: Precision = 0.9268, Recall = 0.0492, NDCG = 0.9412\n",
      "Top  50: Precision = 0.9268, Recall = 0.0492, NDCG = 0.9412\n",
      "Top  60: Precision = 0.9268, Recall = 0.0492, NDCG = 0.9412\n",
      "Top  70: Precision = 0.9268, Recall = 0.0492, NDCG = 0.9412\n",
      "Top  80: Precision = 0.9268, Recall = 0.0492, NDCG = 0.9412\n",
      "Top  90: Precision = 0.9268, Recall = 0.0492, NDCG = 0.9412\n",
      "Top 100: Precision = 0.9268, Recall = 0.0492, NDCG = 0.9412\n"
     ]
    },
    {
     "name": "stderr",
     "output_type": "stream",
     "text": [
      "/home/heh/anaconda3/lib/python3.7/site-packages/numpy/core/fromnumeric.py:3257: RuntimeWarning: Mean of empty slice.\n",
      "  out=out, **kwargs)\n",
      "/home/heh/anaconda3/lib/python3.7/site-packages/numpy/core/_methods.py:161: RuntimeWarning: invalid value encountered in double_scalars\n",
      "  ret = ret.dtype.type(ret / rcount)\n"
     ]
    }
   ],
   "source": [
    "def alrubaye_2019(rules):\n",
    "    return rules[\n",
    "        (rules[\"methodChangeCount\"] > 0) & (rules[\"ruleFreqSameCommit\"] >= 0.6)\n",
    "    ].sort_values(by=[\"fromLib\", \"ruleFreqSameCommit\"], ascending=[True, False])\n",
    "result = evaluate(\"Alrubaye et al. 2019\", alrubaye_2019(rules), possible_rule_set, confirmed_rule_set)\n",
    "print_evaluation_result(result)"
   ]
  },
  {
   "cell_type": "code",
   "execution_count": 11,
   "metadata": {},
   "outputs": [
    {
     "name": "stdout",
     "output_type": "stream",
     "text": [
      "Coef confTeyton: 0.0020397890837172837\n",
      "Coef apiSupportMin: 0.01768948475118095\n",
      "Coef commitDistance: 0.1411219074734114\n",
      "Coef possibleCommitCount: 0.3026174543921507\n",
      "Result of Generalized Linear Model on 190 Library Queries:\n",
      "MRR-C/P = 0.8104735609576461/0.8105571031464515\n",
      "Top   1: Precision = 0.7368, Recall = 0.1811, NDCG = 0.7368\n",
      "Top   2: Precision = 0.6190, Recall = 0.3027, NDCG = 0.7270\n",
      "Top   3: Precision = 0.5106, Recall = 0.3739, NDCG = 0.7023\n",
      "Top   4: Precision = 0.4403, Recall = 0.4295, NDCG = 0.6904\n",
      "Top   5: Precision = 0.3992, Recall = 0.4864, NDCG = 0.6949\n",
      "Top   6: Precision = 0.3637, Recall = 0.5317, NDCG = 0.6965\n",
      "Top   7: Precision = 0.3326, Recall = 0.5666, NDCG = 0.6968\n",
      "Top   8: Precision = 0.3092, Recall = 0.6016, NDCG = 0.7030\n",
      "Top   9: Precision = 0.2850, Recall = 0.6235, NDCG = 0.7035\n",
      "Top  10: Precision = 0.2678, Recall = 0.6507, NDCG = 0.7082\n",
      "Top  20: Precision = 0.1659, Recall = 0.8021, NDCG = 0.7436\n",
      "Top  30: Precision = 0.1202, Recall = 0.8655, NDCG = 0.7603\n",
      "Top  40: Precision = 0.0940, Recall = 0.8965, NDCG = 0.7683\n",
      "Top  50: Precision = 0.0773, Recall = 0.9133, NDCG = 0.7725\n",
      "Top  60: Precision = 0.0658, Recall = 0.9263, NDCG = 0.7753\n",
      "Top  70: Precision = 0.0571, Recall = 0.9314, NDCG = 0.7761\n",
      "Top  80: Precision = 0.0508, Recall = 0.9405, NDCG = 0.7785\n",
      "Top  90: Precision = 0.0458, Recall = 0.9483, NDCG = 0.7802\n",
      "Top 100: Precision = 0.0417, Recall = 0.9521, NDCG = 0.7809\n"
     ]
    }
   ],
   "source": [
    "def regression(rules):\n",
    "    feat_names = [\"confTeyton\", \"apiSupportMin\", \"commitDistance\", \"possibleCommitCount\"]\n",
    "    rules[\"apiSupportMin\"] = rules[\"apiSupport\"].apply(lambda x: max(0.1, x))\n",
    "    feat_series = {name: np.log2(rules[name] + 1) for name in feat_names}\n",
    "    X = []\n",
    "    for i in range(0, len(rules)):\n",
    "        X.append([feat_series[name].iloc[i] for name in feat_names])      \n",
    "    y = list(map(\n",
    "        lambda x: int(x[0]) + int(x[1]),\n",
    "        zip(rules[\"isConfirmed\"], rules[\"isPossible\"])\n",
    "    ))\n",
    "    sample_weight = list(map(\n",
    "        lambda x: int(x[0]) * 5 + int(x[1]) * 1 + 0.08,\n",
    "        zip(rules[\"isConfirmed\"], rules[\"isPossible\"])\n",
    "    ))\n",
    "    reg = linear_model.TweedieRegressor(power=1, verbose=1)\n",
    "    reg.fit(X, y, sample_weight)\n",
    "    for idx, coef in enumerate(reg.coef_):\n",
    "        print(\"Coef {}: {}\".format(feat_names[idx], coef))\n",
    "    rules[\"confidence\"] = reg.predict(X)\n",
    "    return rules.sort_values(by=[\"fromLib\", \"confidence\"], ascending=[True, False])\n",
    "result = evaluate(\"Generalized Linear Model\", regression(rules), possible_rule_set, confirmed_rule_set)\n",
    "print_evaluation_result(result)"
   ]
  },
  {
   "cell_type": "code",
   "execution_count": 12,
   "metadata": {},
   "outputs": [
    {
     "name": "stderr",
     "output_type": "stream",
     "text": [
      "/home/heh/anaconda3/lib/python3.7/site-packages/numpy/core/fromnumeric.py:3257: RuntimeWarning: Mean of empty slice.\n",
      "  out=out, **kwargs)\n",
      "/home/heh/anaconda3/lib/python3.7/site-packages/numpy/core/_methods.py:161: RuntimeWarning: invalid value encountered in double_scalars\n",
      "  ret = ret.dtype.type(ret / rcount)\n"
     ]
    },
    {
     "name": "stdout",
     "output_type": "stream",
     "text": [
      "RuleFreq                      : Precision@1 = 0.4474, MRR = 0.5323, Recall@5 = 0.2238, Recall@10 = 0.3014, Recall@20 = 0.4217, NDCG@10 = 0.3676\n",
      "RuleFreqSameCommit            : Precision@1 = 0.6632, MRR = 0.7324, Recall@5 = 0.4101, Recall@10 = 0.5757, Recall@20 = 0.7206, NDCG@10 = 0.6004\n",
      "Teyton et al. 2013            : Precision@1 = 0.6632, MRR = 0.7308, Recall@5 = 0.4127, Recall@10 = 0.5783, Recall@20 = 0.7219, NDCG@10 = 0.6011\n",
      "Alrubaye et al. 2019          : Precision@1 = 0.9412, MRR = 0.9412, Recall@5 = 0.0492, Recall@10 = 0.0492, Recall@20 = 0.0492, NDCG@10 = 0.9412\n",
      "Message                       : Precision@1 = 0.6947, MRR = 0.7703, Recall@5 = 0.4541, Recall@10 = 0.6067, Recall@20 = 0.7594, NDCG@10 = 0.6532\n",
      "RFSC * Message                : Precision@1 = 0.7474, MRR = 0.8218, Recall@5 = 0.5123, Recall@10 = 0.7025, Recall@20 = 0.8590, NDCG@10 = 0.7439\n",
      "RFSC * Message * Distance     : Precision@1 = 0.7737, MRR = 0.8420, Recall@5 = 0.5278, Recall@10 = 0.7115, Recall@20 = 0.8642, NDCG@10 = 0.7610\n",
      "RFSC * Message * APISupport   : Precision@1 = 0.7632, MRR = 0.8309, Recall@5 = 0.5162, Recall@10 = 0.6947, Recall@20 = 0.8823, NDCG@10 = 0.7422\n",
      "Our Method                    : Precision@1 = 0.7947, MRR = 0.8566, Recall@5 = 0.5330, Recall@10 = 0.7089, Recall@20 = 0.8939, NDCG@10 = 0.7702\n"
     ]
    }
   ],
   "source": [
    "def rule_freq(rules):\n",
    "    return rules.sample(frac=1).sort_values(by=[\"fromLib\", \"ruleFreq\"], ascending=[True, False])\n",
    "def rule_freq_same_commit(rules):\n",
    "    return rules.sample(frac=1).sort_values(by=[\"fromLib\", \"ruleFreqSameCommit\"], ascending=[True, False])\n",
    "def rule_freq_to_lib_same_commit(rules):\n",
    "    return rules.sample(frac=1).sort_values(by=[\"fromLib\", \"ruleFreqToLibSameCommit\"], ascending=[True, False])\n",
    "def method(rules, a, b, c, d):\n",
    "    rules[\"confidence\"] = (\n",
    "        rules[\"ruleFreqSameCommit\"] ** a\n",
    "        * np.maximum(0.1, rules[\"apiSupport\"]) ** b\n",
    "        * rules[\"commitDistance\"] ** c\n",
    "        * np.log2(rules[\"possibleCommitCount\"] + 1) ** d\n",
    "    )\n",
    "    return rules.sample(frac=1).sort_values(by=[\"fromLib\", \"confidence\"], ascending=[True, False])\n",
    "def parallel_worker(name, func, params):\n",
    "    return evaluate(name, func(rules, *params), possible_rule_set, confirmed_rule_set)\n",
    "methods = [\n",
    "    (\"RuleFreq\", rule_freq, ()),\n",
    "    (\"RuleFreqSameCommit\", rule_freq_same_commit, ()),\n",
    "    (\"Teyton et al. 2013\", teyton_2013, ()),\n",
    "    (\"Alrubaye et al. 2019\", alrubaye_2019, ()),\n",
    "    # (\"APISupport\", method, (0, 1, 0, 0)), \n",
    "    # (\"CommitDistance\", method, (0, 0, 1, 0)), \n",
    "    (\"Message\", method, (0, 0, 0, 1)),\n",
    "    # (\"ConfTeyton * APISupport\", method, (1, 1, 0, 0)),\n",
    "    # (\"ConfTeyton * CommitDistance\", method, (1, 1, 1, 0)),\n",
    "    (\"RFSC * Message\", method, (1, 0, 0, 1)),\n",
    "    (\"RFSC * Message * Distance\", method, (1, 1, 0, 1)),\n",
    "    (\"RFSC * Message * APISupport\", method, (1, 0, 1, 1)),\n",
    "    (\"Our Method\", our_method, ())\n",
    "]\n",
    "pool = multiprocessing.Pool(12)\n",
    "results = pool.starmap(parallel_worker, methods)\n",
    "pool.close()\n",
    "pool.join()\n",
    "for result in results:\n",
    "    print_one_line_evaluation_result(result)\n",
    "# print_one_line_evaluation_result(parallel_worker(\"Generalized Linear Model\", regression, ()))"
   ]
  },
  {
   "cell_type": "code",
   "execution_count": 13,
   "metadata": {},
   "outputs": [
    {
     "name": "stdout",
     "output_type": "stream",
     "text": [
      "Result of Teyton et al. 2013 on 185 Library Queries:\n",
      "MRR-C/P = 0.7233890107803153/0.7314971188884233\n",
      "Top   1: Precision = 0.6595, Recall = 0.1578, NDCG = 0.6595\n",
      "Top   2: Precision = 0.5125, Recall = 0.2393, NDCG = 0.6297\n",
      "Top   3: Precision = 0.4554, Recall = 0.3105, NDCG = 0.6413\n",
      "Top   4: Precision = 0.4131, Recall = 0.3661, NDCG = 0.6480\n",
      "Top   5: Precision = 0.3738, Recall = 0.4062, NDCG = 0.6501\n",
      "Top   6: Precision = 0.3499, Recall = 0.4463, NDCG = 0.6596\n",
      "Top   7: Precision = 0.3327, Recall = 0.4838, NDCG = 0.6684\n",
      "Top   8: Precision = 0.3163, Recall = 0.5136, NDCG = 0.6760\n",
      "Top   9: Precision = 0.2996, Recall = 0.5330, NDCG = 0.6802\n",
      "Top  10: Precision = 0.2883, Recall = 0.5550, NDCG = 0.6851\n",
      "Top  20: Precision = 0.2123, Recall = 0.6404, NDCG = 0.7112\n",
      "Top  30: Precision = 0.1826, Recall = 0.6624, NDCG = 0.7194\n",
      "Top  40: Precision = 0.1701, Recall = 0.6714, NDCG = 0.7234\n",
      "Top  50: Precision = 0.1639, Recall = 0.6727, NDCG = 0.7240\n",
      "Top  60: Precision = 0.1606, Recall = 0.6740, NDCG = 0.7243\n",
      "Top  70: Precision = 0.1586, Recall = 0.6740, NDCG = 0.7243\n",
      "Top  80: Precision = 0.1576, Recall = 0.6740, NDCG = 0.7243\n",
      "Top  90: Precision = 0.1566, Recall = 0.6740, NDCG = 0.7243\n",
      "Top 100: Precision = 0.1559, Recall = 0.6740, NDCG = 0.7243\n"
     ]
    }
   ],
   "source": [
    "def teyton_20132(rules):\n",
    "    return rules[rules[\"confTeyton\"]>=0.002].sample(frac=1).sort_values(by=[\"fromLib\", \"confTeyton\"], ascending=[True, False])\n",
    "result = evaluate(\"Teyton et al. 2013\", teyton_20132(rules), possible_rule_set, confirmed_rule_set)\n",
    "print_evaluation_result(result)"
   ]
  },
  {
   "cell_type": "code",
   "execution_count": 14,
   "metadata": {},
   "outputs": [
    {
     "data": {
      "image/png": "[encoded data removed]",
      "text/plain": [
       "<Figure size 2268x216 with 9 Axes>"
      ]
     },
     "metadata": {
      "needs_background": "light"
     },
     "output_type": "display_data"
    }
   ],
   "source": [
    "fig, axes = plt.subplots(1, len(methods), figsize=(3.5 * len(methods), 3))\n",
    "for i, result in enumerate(results):\n",
    "    x = list(range(1, len(result[\"Precision-C@k\"]) + 1))\n",
    "    axes[i].plot(x, result[\"Precision-C@k\"], label=\"Precision@k\")\n",
    "    axes[i].plot(x, result[\"Recall-C@k\"], label=\"Recall@k\")\n",
    "    axes[i].plot(x, result[\"NDCG-C@k\"], label=\"NDCG@k\")\n",
    "    axes[i].set_xlabel(result[\"Name\"])\n",
    "    axes[i].set_ylim([0, 1])\n",
    "    if i == 0:\n",
    "        axes[i].set_ylabel(\"Value\")\n",
    "        axes[i].legend()\n",
    "fig.show()\n",
    "fig.savefig(\"pic/metric-trend.pdf\", bbox_inches=\"tight\")"
   ]
  },
  {
   "cell_type": "code",
   "execution_count": 15,
   "metadata": {},
   "outputs": [
    {
     "name": "stdout",
     "output_type": "stream",
     "text": [
      "[0.2, 1, 1, 1]                : Precision@1 = 0.7579, MRR = 0.8335, Recall@5 = 0.5162, Recall@10 = 0.6882, Recall@20 = 0.8370, NDCG@10 = 0.7431\n",
      "[0.4, 1, 1, 1]                : Precision@1 = 0.7789, MRR = 0.8474, Recall@5 = 0.5291, Recall@10 = 0.6947, Recall@20 = 0.8512, NDCG@10 = 0.7574\n",
      "[0.6, 1, 1, 1]                : Precision@1 = 0.7842, MRR = 0.8487, Recall@5 = 0.5343, Recall@10 = 0.7025, Recall@20 = 0.8629, NDCG@10 = 0.7611\n",
      "[0.8, 1, 1, 1]                : Precision@1 = 0.7789, MRR = 0.8452, Recall@5 = 0.5369, Recall@10 = 0.7076, Recall@20 = 0.8732, NDCG@10 = 0.7641\n",
      "[1.0, 1, 1, 1]                : Precision@1 = 0.7789, MRR = 0.8446, Recall@5 = 0.5356, Recall@10 = 0.7089, Recall@20 = 0.8836, NDCG@10 = 0.7644\n",
      "[1.5, 1, 1, 1]                : Precision@1 = 0.7789, MRR = 0.8429, Recall@5 = 0.5382, Recall@10 = 0.7141, Recall@20 = 0.8836, NDCG@10 = 0.7652\n",
      "[2.0, 1, 1, 1]                : Precision@1 = 0.7737, MRR = 0.8398, Recall@5 = 0.5356, Recall@10 = 0.7128, Recall@20 = 0.8810, NDCG@10 = 0.7630\n",
      "[2.5, 1, 1, 1]                : Precision@1 = 0.7737, MRR = 0.8393, Recall@5 = 0.5330, Recall@10 = 0.7063, Recall@20 = 0.8784, NDCG@10 = 0.7596\n",
      "[3.0, 1, 1, 1]                : Precision@1 = 0.7789, MRR = 0.8416, Recall@5 = 0.5330, Recall@10 = 0.7063, Recall@20 = 0.8732, NDCG@10 = 0.7606\n",
      "[3.5, 1, 1, 1]                : Precision@1 = 0.7789, MRR = 0.8408, Recall@5 = 0.5356, Recall@10 = 0.7063, Recall@20 = 0.8655, NDCG@10 = 0.7596\n",
      "[4.0, 1, 1, 1]                : Precision@1 = 0.7789, MRR = 0.8408, Recall@5 = 0.5356, Recall@10 = 0.7063, Recall@20 = 0.8655, NDCG@10 = 0.7587\n",
      "[1, 0.2, 1, 1]                : Precision@1 = 0.7789, MRR = 0.8401, Recall@5 = 0.5239, Recall@10 = 0.7050, Recall@20 = 0.8758, NDCG@10 = 0.7565\n",
      "[1, 0.4, 1, 1]                : Precision@1 = 0.8000, MRR = 0.8532, Recall@5 = 0.5239, Recall@10 = 0.7076, Recall@20 = 0.8771, NDCG@10 = 0.7651\n",
      "[1, 0.6, 1, 1]                : Precision@1 = 0.7947, MRR = 0.8506, Recall@5 = 0.5278, Recall@10 = 0.7102, Recall@20 = 0.8771, NDCG@10 = 0.7649\n",
      "[1, 0.8, 1, 1]                : Precision@1 = 0.7895, MRR = 0.8485, Recall@5 = 0.5304, Recall@10 = 0.7102, Recall@20 = 0.8797, NDCG@10 = 0.7646\n",
      "[1, 1.0, 1, 1]                : Precision@1 = 0.7895, MRR = 0.8498, Recall@5 = 0.5330, Recall@10 = 0.7102, Recall@20 = 0.8823, NDCG@10 = 0.7658\n",
      "[1, 1.5, 1, 1]                : Precision@1 = 0.7895, MRR = 0.8507, Recall@5 = 0.5343, Recall@10 = 0.7102, Recall@20 = 0.8810, NDCG@10 = 0.7654\n",
      "[1, 2.0, 1, 1]                : Precision@1 = 0.7737, MRR = 0.8428, Recall@5 = 0.5330, Recall@10 = 0.7102, Recall@20 = 0.8823, NDCG@10 = 0.7630\n",
      "[1, 2.5, 1, 1]                : Precision@1 = 0.7684, MRR = 0.8376, Recall@5 = 0.5317, Recall@10 = 0.7089, Recall@20 = 0.8823, NDCG@10 = 0.7608\n",
      "[1, 3.0, 1, 1]                : Precision@1 = 0.7684, MRR = 0.8376, Recall@5 = 0.5330, Recall@10 = 0.7089, Recall@20 = 0.8823, NDCG@10 = 0.7608\n",
      "[1, 3.5, 1, 1]                : Precision@1 = 0.7579, MRR = 0.8323, Recall@5 = 0.5330, Recall@10 = 0.7050, Recall@20 = 0.8823, NDCG@10 = 0.7572\n",
      "[1, 4.0, 1, 1]                : Precision@1 = 0.7579, MRR = 0.8323, Recall@5 = 0.5291, Recall@10 = 0.7038, Recall@20 = 0.8823, NDCG@10 = 0.7563\n",
      "[1, 1, 0.2, 1]                : Precision@1 = 0.7895, MRR = 0.8487, Recall@5 = 0.5356, Recall@10 = 0.7102, Recall@20 = 0.8719, NDCG@10 = 0.7630\n",
      "[1, 1, 0.4, 1]                : Precision@1 = 0.7895, MRR = 0.8497, Recall@5 = 0.5382, Recall@10 = 0.7128, Recall@20 = 0.8784, NDCG@10 = 0.7656\n",
      "[1, 1, 0.6, 1]                : Precision@1 = 0.7789, MRR = 0.8440, Recall@5 = 0.5395, Recall@10 = 0.7180, Recall@20 = 0.8771, NDCG@10 = 0.7660\n",
      "[1, 1, 0.8, 1]                : Precision@1 = 0.7842, MRR = 0.8460, Recall@5 = 0.5369, Recall@10 = 0.7167, Recall@20 = 0.8823, NDCG@10 = 0.7666\n",
      "[1, 1, 1.0, 1]                : Precision@1 = 0.7842, MRR = 0.8467, Recall@5 = 0.5369, Recall@10 = 0.7128, Recall@20 = 0.8823, NDCG@10 = 0.7660\n",
      "[1, 1, 1.5, 1]                : Precision@1 = 0.7737, MRR = 0.8403, Recall@5 = 0.5278, Recall@10 = 0.7050, Recall@20 = 0.8616, NDCG@10 = 0.7578\n",
      "[1, 1, 2.0, 1]                : Precision@1 = 0.7684, MRR = 0.8379, Recall@5 = 0.5304, Recall@10 = 0.6869, Recall@20 = 0.8435, NDCG@10 = 0.7488\n",
      "[1, 1, 2.5, 1]                : Precision@1 = 0.7579, MRR = 0.8291, Recall@5 = 0.5252, Recall@10 = 0.6792, Recall@20 = 0.8318, NDCG@10 = 0.7387\n",
      "[1, 1, 3.0, 1]                : Precision@1 = 0.7474, MRR = 0.8154, Recall@5 = 0.5097, Recall@10 = 0.6740, Recall@20 = 0.8189, NDCG@10 = 0.7230\n",
      "[1, 1, 3.5, 1]                : Precision@1 = 0.7316, MRR = 0.7990, Recall@5 = 0.4981, Recall@10 = 0.6662, Recall@20 = 0.8124, NDCG@10 = 0.7077\n",
      "[1, 1, 4.0, 1]                : Precision@1 = 0.7316, MRR = 0.7967, Recall@5 = 0.4916, Recall@10 = 0.6598, Recall@20 = 0.8021, NDCG@10 = 0.7028\n",
      "[1, 1, 1, 0.2]                : Precision@1 = 0.7789, MRR = 0.8448, Recall@5 = 0.5395, Recall@10 = 0.7154, Recall@20 = 0.8758, NDCG@10 = 0.7643\n",
      "[1, 1, 1, 0.4]                : Precision@1 = 0.7789, MRR = 0.8444, Recall@5 = 0.5369, Recall@10 = 0.7141, Recall@20 = 0.8810, NDCG@10 = 0.7638\n",
      "[1, 1, 1, 0.6]                : Precision@1 = 0.7842, MRR = 0.8467, Recall@5 = 0.5356, Recall@10 = 0.7115, Recall@20 = 0.8823, NDCG@10 = 0.7649\n",
      "[1, 1, 1, 0.8]                : Precision@1 = 0.7842, MRR = 0.8490, Recall@5 = 0.5369, Recall@10 = 0.7154, Recall@20 = 0.8913, NDCG@10 = 0.7692\n",
      "[1, 1, 1, 1.0]                : Precision@1 = 0.7842, MRR = 0.8490, Recall@5 = 0.5369, Recall@10 = 0.7141, Recall@20 = 0.8913, NDCG@10 = 0.7691\n",
      "[1, 1, 1, 1.5]                : Precision@1 = 0.7895, MRR = 0.8511, Recall@5 = 0.5369, Recall@10 = 0.7180, Recall@20 = 0.8797, NDCG@10 = 0.7704\n",
      "[1, 1, 1, 2.0]                : Precision@1 = 0.7895, MRR = 0.8526, Recall@5 = 0.5304, Recall@10 = 0.7206, Recall@20 = 0.8771, NDCG@10 = 0.7717\n",
      "[1, 1, 1, 2.5]                : Precision@1 = 0.7947, MRR = 0.8553, Recall@5 = 0.5291, Recall@10 = 0.7193, Recall@20 = 0.8745, NDCG@10 = 0.7698\n",
      "[1, 1, 1, 3.0]                : Precision@1 = 0.7789, MRR = 0.8474, Recall@5 = 0.5278, Recall@10 = 0.7154, Recall@20 = 0.8706, NDCG@10 = 0.7635\n",
      "[1, 1, 1, 3.5]                : Precision@1 = 0.7842, MRR = 0.8500, Recall@5 = 0.5291, Recall@10 = 0.7180, Recall@20 = 0.8680, NDCG@10 = 0.7663\n",
      "[1, 1, 1, 4.0]                : Precision@1 = 0.7842, MRR = 0.8500, Recall@5 = 0.5278, Recall@10 = 0.7154, Recall@20 = 0.8655, NDCG@10 = 0.7655\n"
     ]
    }
   ],
   "source": [
    "vals = [0.2, 0.4, 0.6, 0.8, 1.0, 1.5, 2.0, 2.5, 3.0, 3.5, 4.0]\n",
    "params = []\n",
    "for loc in range(0, 4):\n",
    "    for i in vals:\n",
    "        param = [1, 1, 1, 1]\n",
    "        param[loc] = i\n",
    "        params.append((str(param), method, param))\n",
    "pool = multiprocessing.Pool(12)\n",
    "results = pool.starmap(parallel_worker, params)\n",
    "pool.close()\n",
    "for result in results:\n",
    "    print_one_line_evaluation_result(result)"
   ]
  },
  {
   "cell_type": "code",
   "execution_count": null,
   "metadata": {},
   "outputs": [],
   "source": []
  }
 ],
 "metadata": {
  "kernelspec": {
   "display_name": "Python 3",
   "language": "python",
   "name": "python3"
  },
  "language_info": {
   "codemirror_mode": {
    "name": "ipython",
    "version": 3
   },
   "file_extension": ".py",
   "mimetype": "text/x-python",
   "name": "python",
   "nbconvert_exporter": "python",
   "pygments_lexer": "ipython3",
   "version": "3.7.4"
  }
 },
 "nbformat": 4,
 "nbformat_minor": 4
}
