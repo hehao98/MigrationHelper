{
 "cells": [
  {
   "cell_type": "code",
   "execution_count": 1,
   "metadata": {},
   "outputs": [],
   "source": [
    "import pandas as pd\n",
    "import numpy as np\n",
    "import multiprocessing\n",
    "import matplotlib.pyplot as plt\n",
    "import seaborn as sns\n",
    "from sklearn import linear_model"
   ]
  },
  {
   "cell_type": "code",
   "execution_count": 2,
   "metadata": {},
   "outputs": [],
   "source": [
    "rules = pd.read_csv(\"recommend-output.csv\")\n",
    "#to_lib2max_freq = {to_lib: max(row[\"ruleFreqSameCommit\"]) for to_lib, row in rules.groupby(by=\"toLib\")}\n",
    "#rules[\"ruleFreqToLibSameCommit\"] = rules[\"ruleFreqSameCommit\"] / rules[\"toLib\"].apply(lambda x: to_lib2max_freq[x])\n",
    "#rules.insert(4, \"confTeyton\", np.minimum(rules[\"ruleFreqSameCommit\"], rules[\"ruleFreqToLibSameCommit\"]).fillna(0))\n",
    "to_lib2cnt = {to_lib: len(rows) for to_lib, rows in rules.groupby(by=\"toLib\")}\n",
    "from_lib2cnt = {from_lib: len(rows) for from_lib, rows in rules.groupby(by=\"fromLib\")}\n",
    "rules[\"confTeyton\"] = (rules[\"ruleCountSameCommit\"] / np.maximum(\n",
    "    rules[\"toLib\"].apply(lambda x: to_lib2cnt[x]),\n",
    "    rules[\"fromLib\"].apply(lambda x: from_lib2cnt[x])\n",
    ")).fillna(0)\n",
    "# to_lib2max_freq = {to_lib: max(row[\"ruleFreq\"]) for to_lib, row in rules.groupby(by=\"toLib\")}\n",
    "# rules[\"ruleFreqToLib\"] = rules[\"ruleFreq\"] / rules[\"toLib\"].apply(lambda x: to_lib2max_freq[x])\n",
    "# rules[\"popularityRegularization\"] = rules[\"ruleFreq\"] * rules[\"concurrenceAdjustment\"]\n",
    "# from_lib2max_count = {from_lib: max(row[\"possibleCommitCount\"]) for from_lib, row in rules.groupby(by=\"fromLib\")}\n",
    "# rules[\"commitMessageSupport\"] = [x / (from_lib2max_count[from_lib] + 1) for from_lib, x in zip(rules[\"fromLib\"], rules[\"possibleCommitCount\"])]"
   ]
  },
  {
   "cell_type": "code",
   "execution_count": 3,
   "metadata": {},
   "outputs": [
    {
     "data": {
      "text/plain": [
       "(195, 1)"
      ]
     },
     "execution_count": 3,
     "metadata": {},
     "output_type": "execute_result"
    }
   ],
   "source": [
    "from_libs = set()\n",
    "with open(\"from-lib-confirmed.txt\", \"r\") as f:\n",
    "    from_libs = set(x.strip() for x in f)\n",
    "len(from_libs), len(from_libs - set(rules[\"fromLib\"]))"
   ]
  },
  {
   "cell_type": "code",
   "execution_count": 4,
   "metadata": {},
   "outputs": [
    {
     "name": "stdout",
     "output_type": "stream",
     "text": [
      "# rules = 243152, # confirmed = 773, # possible = 1446, # confirmed from libs = 190\n"
     ]
    }
   ],
   "source": [
    "ground_truth = pd.read_excel(\"manual/ground-truth.xlsx\")\n",
    "rules_existed = set(zip(rules[\"fromLib\"], rules[\"toLib\"]))\n",
    "confirmed_rule_set = set(zip(\n",
    "    ground_truth[ground_truth[\"isConfirmed\"]][\"fromLib\"], \n",
    "    ground_truth[ground_truth[\"isConfirmed\"]][\"toLib\"]\n",
    ")) & rules_existed\n",
    "possible_rule_set = (set(zip(\n",
    "    ground_truth[ground_truth[\"ruleCount\"] > 0][\"fromLib\"], \n",
    "    ground_truth[ground_truth[\"ruleCount\"] > 0][\"toLib\"]\n",
    ")) | confirmed_rule_set) & rules_existed\n",
    "\n",
    "rules[\"isPossible\"] = [x in possible_rule_set for x in zip(rules[\"fromLib\"], rules[\"toLib\"])]\n",
    "# rules.insert(2, \"isConfirmed\", [x in confirmed_rule_set for x in zip(rules[\"fromLib\"], rules[\"toLib\"])])\n",
    "possible_rules = rules[rules[\"isPossible\"]]\n",
    "confirmed_rules = rules[rules[\"isConfirmed\"]]\n",
    "other_rules = rules[~rules[\"isConfirmed\"] & ~rules[\"isPossible\"]]\n",
    "print(\"# rules = {}, # confirmed = {}, # possible = {}, # confirmed from libs = {}\".format(\n",
    "    len(rules), len(confirmed_rule_set), len(possible_rule_set), \n",
    "    len(set(x[0] for x in confirmed_rule_set))\n",
    "))"
   ]
  },
  {
   "cell_type": "code",
   "execution_count": 5,
   "metadata": {},
   "outputs": [],
   "source": [
    "def evaluate(method, rules, possible_rules, confirmed_rules):\n",
    "    top_k = 100\n",
    "    top_rules = [list() for x in range(0, top_k)]\n",
    "    ndcg_possible_at_k = [list() for x in range(0, top_k)]\n",
    "    ndcg_confirmed_at_k = [list() for x in range(0, top_k)]\n",
    "    from_lib_set = set(x for x, y in confirmed_rules)\n",
    "    reciprocal_ranks_confirmed = {}\n",
    "    reciprocal_ranks_possible = {}\n",
    "    for from_lib, candidates in rules.groupby(by=\"fromLib\"):\n",
    "        if from_lib not in from_lib_set:\n",
    "            continue\n",
    "        this_rules = [(from_lib, to_lib) for to_lib in candidates[\"toLib\"]]\n",
    "        this_possible_rules = [(from_lib, to_lib) for from_lib, to_lib in this_rules if (from_lib, to_lib) in possible_rules]\n",
    "        this_confirmed_rules = [(from_lib, to_lib) for from_lib, to_lib in this_rules if (from_lib, to_lib) in confirmed_rules]\n",
    "        last_k, last_ndcg = 0, 0\n",
    "        for k, (from_lib, to_lib) in enumerate(this_rules):\n",
    "            if k >= top_k:\n",
    "                continue\n",
    "            last_k = k\n",
    "            top_rules[k].append((from_lib, to_lib))\n",
    "            if (from_lib, to_lib) in possible_rules and from_lib not in reciprocal_ranks_possible:\n",
    "                reciprocal_ranks_possible[from_lib] = 1 / (k + 1)\n",
    "            if (from_lib, to_lib) in confirmed_rules and from_lib not in reciprocal_ranks_confirmed:\n",
    "                reciprocal_ranks_confirmed[from_lib] = 1 / (k + 1)\n",
    "            dcg_p = sum(int((from_lib, to_lib) in possible_rules) / np.log2(i+2) for i, (from_lib, to_lib) in enumerate(this_rules[0:k+1]))\n",
    "            idcg_p = sum(1 / np.log2(i+2) for i in range(0, min(k + 1, len(this_possible_rules))))\n",
    "            if idcg_p == 0:\n",
    "                ndcg_possible_at_k[k].append(0)\n",
    "            else:\n",
    "                ndcg_possible_at_k[k].append(dcg_p / idcg_p)\n",
    "            dcg_c = sum(int((from_lib, to_lib) in confirmed_rules) / np.log2(i+2) for i, (from_lib, to_lib) in enumerate(this_rules[0:k+1]))\n",
    "            idcg_c = sum(1 / np.log2(i+2) for i in range(0, min(k + 1, len(this_confirmed_rules))))\n",
    "            if idcg_c == 0:\n",
    "                ndcg_confirmed_at_k[k].append(0)\n",
    "                last_ndcg = 0\n",
    "            else:\n",
    "                ndcg_confirmed_at_k[k].append(dcg_c / idcg_c)\n",
    "                last_ndcg = dcg_c / idcg_c\n",
    "        for k in range(last_k + 1, top_k):\n",
    "            ndcg_confirmed_at_k[k].append(last_ndcg)\n",
    "        if from_lib not in reciprocal_ranks_possible:\n",
    "            reciprocal_ranks_possible[from_lib] = 0\n",
    "        if from_lib not in reciprocal_ranks_confirmed:\n",
    "            reciprocal_ranks_confirmed[from_lib] = 0\n",
    "    for k in range(1, top_k):\n",
    "        top_rules[k] += top_rules[k - 1] \n",
    "    result = {\n",
    "        \"Name\": method,\n",
    "        \"FromLibCount\": len(from_lib_set & set(rules[\"fromLib\"])),\n",
    "        \"MRR-C\": np.mean(list(reciprocal_ranks_confirmed.values())),\n",
    "        \"MRR-P\": np.mean(list(reciprocal_ranks_possible.values())),\n",
    "        \"Precision-C@k\": [],\n",
    "        \"Precision-P@k\": [],\n",
    "        \"Recall-C@k\": [],\n",
    "        \"Recall-P@k\": [],\n",
    "        \"NDCG-C@k\": [],\n",
    "        \"NDCG-P@k\": [],\n",
    "    }\n",
    "    for k in range(0, top_k):\n",
    "        precision = len([x for x in top_rules[k] if x in confirmed_rules]) / len(top_rules[k])\n",
    "        recall = len([x for x in top_rules[k] if x in confirmed_rules]) / len(confirmed_rules)\n",
    "        precision_possible = len([x for x in top_rules[k] if x in possible_rules]) / len(top_rules[k])\n",
    "        recall_possible = len([x for x in top_rules[k] if x in possible_rules]) / len(possible_rules)\n",
    "        result[\"Precision-C@k\"].append(precision)\n",
    "        result[\"Precision-P@k\"].append(precision_possible)\n",
    "        result[\"Recall-C@k\"].append(recall)\n",
    "        result[\"Recall-P@k\"].append(recall_possible)\n",
    "        result[\"NDCG-C@k\"].append(np.mean(ndcg_confirmed_at_k[k]))\n",
    "        result[\"NDCG-P@k\"].append(np.mean(ndcg_possible_at_k[k]))\n",
    "    return result\n",
    "def print_evaluation_result(result):\n",
    "    print(\"Result of {} on {} Library Queries:\".format(result[\"Name\"], result[\"FromLibCount\"]))\n",
    "    print(\"MRR-C/P = {}/{}\".format(result[\"MRR-C\"], result[\"MRR-P\"]))\n",
    "    for k in range(0, len(result[\"Precision-C@k\"])):\n",
    "        if k + 1 > 10 and (k + 1) % 10 != 0:\n",
    "            continue\n",
    "        print(\"Top {:3}: Precision = {:0.4f}, Recall = {:0.4f}, NDCG = {:0.4f}, F-Measure = {:0.4f}\"\n",
    "              .format(k + 1, result[\"Precision-C@k\"][k], result[\"Recall-C@k\"][k], result[\"NDCG-C@k\"][k], \n",
    "                     2 * result[\"Precision-C@k\"][k] * result[\"Recall-C@k\"][k] / (result[\"Precision-C@k\"][k] + result[\"Recall-C@k\"][k])))\n",
    "def print_one_line_evaluation_result(result):\n",
    "    print(\"{:30}: Precision@1 = {:0.4f}, MRR = {:0.4f}, Recall@5 = {:0.4f}, Recall@10 = {:0.4f}, \"\n",
    "         \"Recall@20 = {:0.4f}, NDCG@10 = {:0.4f}\".format(\n",
    "             result[\"Name\"],\n",
    "             result[\"Precision-C@k\"][0],\n",
    "             result[\"MRR-C\"],\n",
    "             result[\"Recall-C@k\"][4],\n",
    "             result[\"Recall-C@k\"][9],\n",
    "             result[\"Recall-C@k\"][19],\n",
    "             result[\"NDCG-C@k\"][9]\n",
    "         ))"
   ]
  },
  {
   "cell_type": "code",
   "execution_count": 6,
   "metadata": {},
   "outputs": [
    {
     "name": "stdout",
     "output_type": "stream",
     "text": [
      "Result of Our Method on 190 Library Queries:\n",
      "MRR-C/P = 0.8565813287461487/0.8565813287461487\n",
      "Top   1: Precision = 0.7947, Recall = 0.1953, NDCG = 0.7947, F-Measure = 0.3136\n",
      "Top   2: Precision = 0.6614, Recall = 0.3234, NDCG = 0.7836, F-Measure = 0.4344\n",
      "Top   3: Precision = 0.5583, Recall = 0.4088, NDCG = 0.7669, F-Measure = 0.4720\n",
      "Top   4: Precision = 0.4907, Recall = 0.4787, NDCG = 0.7640, F-Measure = 0.4846\n",
      "Top   5: Precision = 0.4374, Recall = 0.5330, NDCG = 0.7611, F-Measure = 0.4805\n",
      "Top   6: Precision = 0.3912, Recall = 0.5718, NDCG = 0.7580, F-Measure = 0.4645\n",
      "Top   7: Precision = 0.3584, Recall = 0.6106, NDCG = 0.7594, F-Measure = 0.4517\n",
      "Top   8: Precision = 0.3351, Recall = 0.6520, NDCG = 0.7639, F-Measure = 0.4427\n",
      "Top   9: Precision = 0.3146, Recall = 0.6882, NDCG = 0.7690, F-Measure = 0.4318\n",
      "Top  10: Precision = 0.2918, Recall = 0.7089, NDCG = 0.7702, F-Measure = 0.4134\n",
      "Top  20: Precision = 0.1849, Recall = 0.8939, NDCG = 0.8123, F-Measure = 0.3064\n",
      "Top  30: Precision = 0.1288, Recall = 0.9276, NDCG = 0.8220, F-Measure = 0.2261\n",
      "Top  40: Precision = 0.0986, Recall = 0.9405, NDCG = 0.8253, F-Measure = 0.1785\n",
      "Top  50: Precision = 0.0803, Recall = 0.9483, NDCG = 0.8268, F-Measure = 0.1480\n",
      "Top  60: Precision = 0.0678, Recall = 0.9547, NDCG = 0.8285, F-Measure = 0.1266\n",
      "Top  70: Precision = 0.0591, Recall = 0.9638, NDCG = 0.8311, F-Measure = 0.1114\n",
      "Top  80: Precision = 0.0524, Recall = 0.9690, NDCG = 0.8323, F-Measure = 0.0994\n",
      "Top  90: Precision = 0.0469, Recall = 0.9702, NDCG = 0.8326, F-Measure = 0.0895\n",
      "Top 100: Precision = 0.0425, Recall = 0.9702, NDCG = 0.8326, F-Measure = 0.0814\n"
     ]
    }
   ],
   "source": [
    "def our_method(rules):\n",
    "    rules[\"confidence\"] = (\n",
    "        # np.minimum(0.15, rules[\"confTeyton\"])\n",
    "        # np.log2(rules[\"confTeyton\"] + 1)\n",
    "        # rules[\"confTeyton\"]\n",
    "        rules[\"ruleFreqSameCommit\"]\n",
    "        # * rules[\"ruleFreq\"]\n",
    "        # * rules[\"ruleCount\"] / rules[\"concurrence\"]\n",
    "        # * rules[\"concurrenceAdjustment\"]\n",
    "        # * np.minimum(rules[\"ruleFreq\"], rules[\"ruleFreqToLib\"])\n",
    "        * np.maximum(0.1, rules[\"apiSupport\"])\n",
    "        # * rules[\"positionSupport\"] \n",
    "        * rules[\"commitDistance\"]\n",
    "        * np.log2(rules[\"possibleCommitCount\"] + 1)\n",
    "        # * np.maximum(0.2, rules[\"commitMessageSupport\"])\n",
    "        # * np.minimum(rules[\"similarity\"], 0.1)\n",
    "    )\n",
    "    return rules.sort_values(by=[\"fromLib\", \"confidence\"], ascending=[True, False])\n",
    "result = evaluate(\"Our Method\", our_method(rules), possible_rule_set, confirmed_rule_set)\n",
    "print_evaluation_result(result)\n",
    "our_method(rules).to_csv(\"recommend-output.csv\", index=False)"
   ]
  },
  {
   "cell_type": "code",
   "execution_count": 7,
   "metadata": {},
   "outputs": [
    {
     "name": "stdout",
     "output_type": "stream",
     "text": [
      "Result of Teyton et al. 2013 on 190 Library Queries:\n",
      "MRR-C/P = 0.7172956537340605/0.7227737800081314\n",
      "Top   1: Precision = 0.6526, Recall = 0.1604, NDCG = 0.6526, F-Measure = 0.2575\n",
      "Top   2: Precision = 0.4868, Recall = 0.2380, NDCG = 0.5893, F-Measure = 0.3197\n",
      "Top   3: Precision = 0.4134, Recall = 0.3027, NDCG = 0.5761, F-Measure = 0.3495\n",
      "Top   4: Precision = 0.3714, Recall = 0.3622, NDCG = 0.5764, F-Measure = 0.3667\n",
      "Top   5: Precision = 0.3344, Recall = 0.4075, NDCG = 0.5713, F-Measure = 0.3673\n",
      "Top   6: Precision = 0.3142, Recall = 0.4592, NDCG = 0.5793, F-Measure = 0.3731\n",
      "Top   7: Precision = 0.2916, Recall = 0.4968, NDCG = 0.5829, F-Measure = 0.3675\n",
      "Top   8: Precision = 0.2753, Recall = 0.5356, NDCG = 0.5894, F-Measure = 0.3636\n",
      "Top   9: Precision = 0.2584, Recall = 0.5653, NDCG = 0.5957, F-Measure = 0.3547\n",
      "Top  10: Precision = 0.2417, Recall = 0.5873, NDCG = 0.5987, F-Measure = 0.3425\n",
      "Top  20: Precision = 0.1506, Recall = 0.7283, NDCG = 0.6344, F-Measure = 0.2496\n",
      "Top  30: Precision = 0.1119, Recall = 0.8060, NDCG = 0.6557, F-Measure = 0.1965\n",
      "Top  40: Precision = 0.0887, Recall = 0.8461, NDCG = 0.6668, F-Measure = 0.1606\n",
      "Top  50: Precision = 0.0739, Recall = 0.8732, NDCG = 0.6735, F-Measure = 0.1363\n",
      "Top  60: Precision = 0.0631, Recall = 0.8887, NDCG = 0.6779, F-Measure = 0.1179\n",
      "Top  70: Precision = 0.0557, Recall = 0.9082, NDCG = 0.6816, F-Measure = 0.1049\n",
      "Top  80: Precision = 0.0496, Recall = 0.9172, NDCG = 0.6832, F-Measure = 0.0941\n",
      "Top  90: Precision = 0.0449, Recall = 0.9288, NDCG = 0.6853, F-Measure = 0.0857\n",
      "Top 100: Precision = 0.0409, Recall = 0.9353, NDCG = 0.6865, F-Measure = 0.0784\n"
     ]
    }
   ],
   "source": [
    "def teyton_2013(rules):\n",
    "    return rules.sample(frac=1).sort_values(by=[\"fromLib\", \"confTeyton\"], ascending=[True, False])\n",
    "result = evaluate(\"Teyton et al. 2013\", teyton_2013(rules), possible_rule_set, confirmed_rule_set)\n",
    "print_evaluation_result(result)"
   ]
  },
  {
   "cell_type": "code",
   "execution_count": 8,
   "metadata": {},
   "outputs": [
    {
     "name": "stdout",
     "output_type": "stream",
     "text": [
      "Result of Teyton et al. 2013 on 185 Library Queries:\n",
      "MRR-C/P = 0.7221139810907252/0.7301255641023083\n",
      "Top   1: Precision = 0.6595, Recall = 0.1578, NDCG = 0.6595, F-Measure = 0.2547\n",
      "Top   2: Precision = 0.5125, Recall = 0.2393, NDCG = 0.6297, F-Measure = 0.3263\n",
      "Top   3: Precision = 0.4459, Recall = 0.3040, NDCG = 0.6309, F-Measure = 0.3615\n",
      "Top   4: Precision = 0.4044, Recall = 0.3583, NDCG = 0.6387, F-Measure = 0.3800\n",
      "Top   5: Precision = 0.3655, Recall = 0.3972, NDCG = 0.6412, F-Measure = 0.3807\n",
      "Top   6: Precision = 0.3489, Recall = 0.4450, NDCG = 0.6551, F-Measure = 0.3911\n",
      "Top   7: Precision = 0.3310, Recall = 0.4812, NDCG = 0.6661, F-Measure = 0.3922\n",
      "Top   8: Precision = 0.3108, Recall = 0.5045, NDCG = 0.6688, F-Measure = 0.3846\n",
      "Top   9: Precision = 0.2960, Recall = 0.5265, NDCG = 0.6745, F-Measure = 0.3790\n",
      "Top  10: Precision = 0.2816, Recall = 0.5420, NDCG = 0.6777, F-Measure = 0.3706\n",
      "Top  20: Precision = 0.2110, Recall = 0.6365, NDCG = 0.7063, F-Measure = 0.3169\n",
      "Top  30: Precision = 0.1833, Recall = 0.6649, NDCG = 0.7163, F-Measure = 0.2874\n",
      "Top  40: Precision = 0.1698, Recall = 0.6701, NDCG = 0.7182, F-Measure = 0.2709\n",
      "Top  50: Precision = 0.1639, Recall = 0.6727, NDCG = 0.7197, F-Measure = 0.2636\n",
      "Top  60: Precision = 0.1602, Recall = 0.6727, NDCG = 0.7197, F-Measure = 0.2588\n",
      "Top  70: Precision = 0.1582, Recall = 0.6727, NDCG = 0.7197, F-Measure = 0.2562\n",
      "Top  80: Precision = 0.1576, Recall = 0.6740, NDCG = 0.7206, F-Measure = 0.2555\n",
      "Top  90: Precision = 0.1566, Recall = 0.6740, NDCG = 0.7206, F-Measure = 0.2542\n",
      "Top 100: Precision = 0.1559, Recall = 0.6740, NDCG = 0.7206, F-Measure = 0.2532\n"
     ]
    }
   ],
   "source": [
    "def teyton_20132(rules):\n",
    "    return rules[rules[\"confTeyton\"]>=0.002].sample(frac=1).sort_values(by=[\"fromLib\", \"confTeyton\"], ascending=[True, False])\n",
    "result = evaluate(\"Teyton et al. 2013\", teyton_20132(rules), possible_rule_set, confirmed_rule_set)\n",
    "print_evaluation_result(result)"
   ]
  },
  {
   "cell_type": "code",
   "execution_count": 9,
   "metadata": {},
   "outputs": [
    {
     "name": "stdout",
     "output_type": "stream",
     "text": [
      "Result of Teyton et al. 2013 on 95 Library Queries:\n",
      "MRR-C/P = 0.8862573099415206/0.8862573099415206\n",
      "Top   1: Precision = 0.8737, Recall = 0.1074, NDCG = 0.8737, F-Measure = 0.1912\n",
      "Top   2: Precision = 0.7820, Recall = 0.1345, NDCG = 0.8696, F-Measure = 0.2296\n",
      "Top   3: Precision = 0.7468, Recall = 0.1527, NDCG = 0.8796, F-Measure = 0.2535\n",
      "Top   4: Precision = 0.7209, Recall = 0.1604, NDCG = 0.8832, F-Measure = 0.2624\n",
      "Top   5: Precision = 0.7111, Recall = 0.1656, NDCG = 0.8840, F-Measure = 0.2686\n",
      "Top   6: Precision = 0.7043, Recall = 0.1695, NDCG = 0.8853, F-Measure = 0.2732\n",
      "Top   7: Precision = 0.7000, Recall = 0.1721, NDCG = 0.8864, F-Measure = 0.2762\n",
      "Top   8: Precision = 0.6943, Recall = 0.1734, NDCG = 0.8864, F-Measure = 0.2774\n",
      "Top   9: Precision = 0.6974, Recall = 0.1759, NDCG = 0.8916, F-Measure = 0.2810\n",
      "Top  10: Precision = 0.6904, Recall = 0.1759, NDCG = 0.8916, F-Measure = 0.2804\n",
      "Top  20: Precision = 0.6766, Recall = 0.1759, NDCG = 0.8916, F-Measure = 0.2793\n",
      "Top  30: Precision = 0.6766, Recall = 0.1759, NDCG = 0.8916, F-Measure = 0.2793\n",
      "Top  40: Precision = 0.6766, Recall = 0.1759, NDCG = 0.8916, F-Measure = 0.2793\n",
      "Top  50: Precision = 0.6766, Recall = 0.1759, NDCG = 0.8916, F-Measure = 0.2793\n",
      "Top  60: Precision = 0.6766, Recall = 0.1759, NDCG = 0.8916, F-Measure = 0.2793\n",
      "Top  70: Precision = 0.6766, Recall = 0.1759, NDCG = 0.8916, F-Measure = 0.2793\n",
      "Top  80: Precision = 0.6766, Recall = 0.1759, NDCG = 0.8916, F-Measure = 0.2793\n",
      "Top  90: Precision = 0.6766, Recall = 0.1759, NDCG = 0.8916, F-Measure = 0.2793\n",
      "Top 100: Precision = 0.6766, Recall = 0.1759, NDCG = 0.8916, F-Measure = 0.2793\n"
     ]
    },
    {
     "name": "stderr",
     "output_type": "stream",
     "text": [
      "/home/heh/anaconda3/lib/python3.7/site-packages/numpy/core/fromnumeric.py:3257: RuntimeWarning: Mean of empty slice.\n",
      "  out=out, **kwargs)\n",
      "/home/heh/anaconda3/lib/python3.7/site-packages/numpy/core/_methods.py:161: RuntimeWarning: invalid value encountered in double_scalars\n",
      "  ret = ret.dtype.type(ret / rcount)\n"
     ]
    }
   ],
   "source": [
    "def teyton_20133(rules):\n",
    "    return rules[rules[\"confTeyton\"]>=0.015].sample(frac=1).sort_values(by=[\"fromLib\", \"confTeyton\"], ascending=[True, False])\n",
    "result = evaluate(\"Teyton et al. 2013\", teyton_20133(rules), possible_rule_set, confirmed_rule_set)\n",
    "print_evaluation_result(result)"
   ]
  },
  {
   "cell_type": "code",
   "execution_count": 10,
   "metadata": {},
   "outputs": [
    {
     "name": "stdout",
     "output_type": "stream",
     "text": [
      "Result of Alrubaye et al. 2019 on 34 Library Queries:\n",
      "MRR-C/P = 0.9411764705882353/0.9411764705882353\n",
      "Top   1: Precision = 0.9412, Recall = 0.0414, NDCG = 0.9412, F-Measure = 0.0793\n",
      "Top   2: Precision = 0.9250, Recall = 0.0479, NDCG = 0.9412, F-Measure = 0.0910\n",
      "Top   3: Precision = 0.9268, Recall = 0.0492, NDCG = 0.9412, F-Measure = 0.0934\n",
      "Top   4: Precision = 0.9268, Recall = 0.0492, NDCG = 0.9412, F-Measure = 0.0934\n",
      "Top   5: Precision = 0.9268, Recall = 0.0492, NDCG = 0.9412, F-Measure = 0.0934\n",
      "Top   6: Precision = 0.9268, Recall = 0.0492, NDCG = 0.9412, F-Measure = 0.0934\n",
      "Top   7: Precision = 0.9268, Recall = 0.0492, NDCG = 0.9412, F-Measure = 0.0934\n",
      "Top   8: Precision = 0.9268, Recall = 0.0492, NDCG = 0.9412, F-Measure = 0.0934\n",
      "Top   9: Precision = 0.9268, Recall = 0.0492, NDCG = 0.9412, F-Measure = 0.0934\n",
      "Top  10: Precision = 0.9268, Recall = 0.0492, NDCG = 0.9412, F-Measure = 0.0934\n",
      "Top  20: Precision = 0.9268, Recall = 0.0492, NDCG = 0.9412, F-Measure = 0.0934\n",
      "Top  30: Precision = 0.9268, Recall = 0.0492, NDCG = 0.9412, F-Measure = 0.0934\n",
      "Top  40: Precision = 0.9268, Recall = 0.0492, NDCG = 0.9412, F-Measure = 0.0934\n",
      "Top  50: Precision = 0.9268, Recall = 0.0492, NDCG = 0.9412, F-Measure = 0.0934\n",
      "Top  60: Precision = 0.9268, Recall = 0.0492, NDCG = 0.9412, F-Measure = 0.0934\n",
      "Top  70: Precision = 0.9268, Recall = 0.0492, NDCG = 0.9412, F-Measure = 0.0934\n",
      "Top  80: Precision = 0.9268, Recall = 0.0492, NDCG = 0.9412, F-Measure = 0.0934\n",
      "Top  90: Precision = 0.9268, Recall = 0.0492, NDCG = 0.9412, F-Measure = 0.0934\n",
      "Top 100: Precision = 0.9268, Recall = 0.0492, NDCG = 0.9412, F-Measure = 0.0934\n"
     ]
    }
   ],
   "source": [
    "def alrubaye_2019(rules):\n",
    "    return rules[\n",
    "        (rules[\"methodChangeCount\"] > 0) & (rules[\"ruleFreqSameCommit\"] >= 0.6)\n",
    "    ].sort_values(by=[\"fromLib\", \"ruleFreqSameCommit\"], ascending=[True, False])\n",
    "result = evaluate(\"Alrubaye et al. 2019\", alrubaye_2019(rules), possible_rule_set, confirmed_rule_set)\n",
    "print_evaluation_result(result)"
   ]
  },
  {
   "cell_type": "code",
   "execution_count": 11,
   "metadata": {},
   "outputs": [
    {
     "name": "stdout",
     "output_type": "stream",
     "text": [
      "Coef confTeyton: 0.0020397890837172837\n",
      "Coef apiSupportMin: 0.01768948475118095\n",
      "Coef commitDistance: 0.1411219074734114\n",
      "Coef possibleCommitCount: 0.3026174543921507\n",
      "Result of Generalized Linear Model on 190 Library Queries:\n",
      "MRR-C/P = 0.8104735609576461/0.8105571031464515\n",
      "Top   1: Precision = 0.7368, Recall = 0.1811, NDCG = 0.7368, F-Measure = 0.2908\n",
      "Top   2: Precision = 0.6190, Recall = 0.3027, NDCG = 0.7270, F-Measure = 0.4066\n",
      "Top   3: Precision = 0.5106, Recall = 0.3739, NDCG = 0.7023, F-Measure = 0.4317\n",
      "Top   4: Precision = 0.4403, Recall = 0.4295, NDCG = 0.6904, F-Measure = 0.4348\n",
      "Top   5: Precision = 0.3992, Recall = 0.4864, NDCG = 0.6949, F-Measure = 0.4385\n",
      "Top   6: Precision = 0.3637, Recall = 0.5317, NDCG = 0.6965, F-Measure = 0.4319\n",
      "Top   7: Precision = 0.3326, Recall = 0.5666, NDCG = 0.6968, F-Measure = 0.4191\n",
      "Top   8: Precision = 0.3092, Recall = 0.6016, NDCG = 0.7030, F-Measure = 0.4084\n",
      "Top   9: Precision = 0.2850, Recall = 0.6235, NDCG = 0.7035, F-Measure = 0.3912\n",
      "Top  10: Precision = 0.2678, Recall = 0.6507, NDCG = 0.7082, F-Measure = 0.3795\n",
      "Top  20: Precision = 0.1659, Recall = 0.8021, NDCG = 0.7436, F-Measure = 0.2749\n",
      "Top  30: Precision = 0.1202, Recall = 0.8655, NDCG = 0.7603, F-Measure = 0.2110\n",
      "Top  40: Precision = 0.0940, Recall = 0.8965, NDCG = 0.7683, F-Measure = 0.1702\n",
      "Top  50: Precision = 0.0773, Recall = 0.9133, NDCG = 0.7725, F-Measure = 0.1425\n",
      "Top  60: Precision = 0.0658, Recall = 0.9263, NDCG = 0.7753, F-Measure = 0.1229\n",
      "Top  70: Precision = 0.0571, Recall = 0.9314, NDCG = 0.7761, F-Measure = 0.1076\n",
      "Top  80: Precision = 0.0508, Recall = 0.9405, NDCG = 0.7785, F-Measure = 0.0965\n",
      "Top  90: Precision = 0.0458, Recall = 0.9483, NDCG = 0.7802, F-Measure = 0.0875\n",
      "Top 100: Precision = 0.0417, Recall = 0.9521, NDCG = 0.7809, F-Measure = 0.0798\n"
     ]
    }
   ],
   "source": [
    "def regression(rules):\n",
    "    feat_names = [\"confTeyton\", \"apiSupportMin\", \"commitDistance\", \"possibleCommitCount\"]\n",
    "    rules[\"apiSupportMin\"] = rules[\"apiSupport\"].apply(lambda x: max(0.1, x))\n",
    "    feat_series = {name: np.log2(rules[name] + 1) for name in feat_names}\n",
    "    X = []\n",
    "    for i in range(0, len(rules)):\n",
    "        X.append([feat_series[name].iloc[i] for name in feat_names])      \n",
    "    y = list(map(\n",
    "        lambda x: int(x[0]) + int(x[1]),\n",
    "        zip(rules[\"isConfirmed\"], rules[\"isPossible\"])\n",
    "    ))\n",
    "    sample_weight = list(map(\n",
    "        lambda x: int(x[0]) * 5 + int(x[1]) * 1 + 0.08,\n",
    "        zip(rules[\"isConfirmed\"], rules[\"isPossible\"])\n",
    "    ))\n",
    "    reg = linear_model.TweedieRegressor(power=1, verbose=1)\n",
    "    reg.fit(X, y, sample_weight)\n",
    "    for idx, coef in enumerate(reg.coef_):\n",
    "        print(\"Coef {}: {}\".format(feat_names[idx], coef))\n",
    "    rules[\"confidence\"] = reg.predict(X)\n",
    "    return rules.sort_values(by=[\"fromLib\", \"confidence\"], ascending=[True, False])\n",
    "result = evaluate(\"Generalized Linear Model\", regression(rules), possible_rule_set, confirmed_rule_set)\n",
    "print_evaluation_result(result)"
   ]
  },
  {
   "cell_type": "code",
   "execution_count": 12,
   "metadata": {},
   "outputs": [
    {
     "name": "stderr",
     "output_type": "stream",
     "text": [
      "/home/heh/anaconda3/lib/python3.7/site-packages/numpy/core/fromnumeric.py:3257: RuntimeWarning: Mean of empty slice.\n",
      "  out=out, **kwargs)\n",
      "/home/heh/anaconda3/lib/python3.7/site-packages/numpy/core/_methods.py:161: RuntimeWarning: invalid value encountered in double_scalars\n",
      "  ret = ret.dtype.type(ret / rcount)\n"
     ]
    },
    {
     "name": "stdout",
     "output_type": "stream",
     "text": [
      "RuleFreq                      : Precision@1 = 0.4368, MRR = 0.5236, Recall@5 = 0.2264, Recall@10 = 0.3027, Recall@20 = 0.4204, NDCG@10 = 0.3609\n",
      "RuleFreqSameCommit            : Precision@1 = 0.6474, MRR = 0.7155, Recall@5 = 0.4049, Recall@10 = 0.5834, Recall@20 = 0.7219, NDCG@10 = 0.5934\n",
      "Teyton et al. 2013            : Precision@1 = 0.6421, MRR = 0.7117, Recall@5 = 0.4049, Recall@10 = 0.5860, Recall@20 = 0.7206, NDCG@10 = 0.5930\n",
      "Alrubaye et al. 2019          : Precision@1 = 0.9412, MRR = 0.9412, Recall@5 = 0.0492, Recall@10 = 0.0492, Recall@20 = 0.0492, NDCG@10 = 0.9412\n",
      "Message                       : Precision@1 = 0.6789, MRR = 0.7584, Recall@5 = 0.4580, Recall@10 = 0.6261, Recall@20 = 0.7697, NDCG@10 = 0.6566\n",
      "RFSC * Message                : Precision@1 = 0.7526, MRR = 0.8195, Recall@5 = 0.5149, Recall@10 = 0.7076, Recall@20 = 0.8525, NDCG@10 = 0.7447\n",
      "RFSC * Message * Distance     : Precision@1 = 0.7737, MRR = 0.8397, Recall@5 = 0.5330, Recall@10 = 0.7206, Recall@20 = 0.8590, NDCG@10 = 0.7628\n",
      "RFSC * Message * APISupport   : Precision@1 = 0.7632, MRR = 0.8295, Recall@5 = 0.5136, Recall@10 = 0.7038, Recall@20 = 0.8693, NDCG@10 = 0.7460\n",
      "Our Method                    : Precision@1 = 0.7947, MRR = 0.8566, Recall@5 = 0.5330, Recall@10 = 0.7089, Recall@20 = 0.8939, NDCG@10 = 0.7702\n"
     ]
    }
   ],
   "source": [
    "def rule_freq(rules):\n",
    "    return rules.sample(frac=1).sort_values(by=[\"fromLib\", \"ruleFreq\"], ascending=[True, False])\n",
    "def rule_freq_same_commit(rules):\n",
    "    return rules.sample(frac=1).sort_values(by=[\"fromLib\", \"ruleFreqSameCommit\"], ascending=[True, False])\n",
    "def rule_freq_to_lib_same_commit(rules):\n",
    "    return rules.sample(frac=1).sort_values(by=[\"fromLib\", \"ruleFreqToLibSameCommit\"], ascending=[True, False])\n",
    "def method(rules, a, b, c, d):\n",
    "    rules[\"confidence\"] = (\n",
    "        rules[\"ruleFreqSameCommit\"] ** a\n",
    "        * np.maximum(0.1, rules[\"apiSupport\"]) ** b\n",
    "        * rules[\"commitDistance\"] ** c\n",
    "        * np.log2(rules[\"possibleCommitCount\"] + 1) ** d\n",
    "    )\n",
    "    return rules.sample(frac=1).sort_values(by=[\"fromLib\", \"confidence\"], ascending=[True, False])\n",
    "def parallel_worker(name, func, params):\n",
    "    return evaluate(name, func(rules, *params), possible_rule_set, confirmed_rule_set)\n",
    "methods = [\n",
    "    (\"RuleFreq\", rule_freq, ()),\n",
    "    (\"RuleFreqSameCommit\", rule_freq_same_commit, ()),\n",
    "    (\"Teyton et al. 2013\", teyton_2013, ()),\n",
    "    (\"Alrubaye et al. 2019\", alrubaye_2019, ()),\n",
    "    # (\"APISupport\", method, (0, 1, 0, 0)), \n",
    "    # (\"CommitDistance\", method, (0, 0, 1, 0)), \n",
    "    (\"Message\", method, (0, 0, 0, 1)),\n",
    "    # (\"ConfTeyton * APISupport\", method, (1, 1, 0, 0)),\n",
    "    # (\"ConfTeyton * CommitDistance\", method, (1, 1, 1, 0)),\n",
    "    (\"RFSC * Message\", method, (1, 0, 0, 1)),\n",
    "    (\"RFSC * Message * Distance\", method, (1, 1, 0, 1)),\n",
    "    (\"RFSC * Message * APISupport\", method, (1, 0, 1, 1)),\n",
    "    (\"Our Method\", our_method, ())\n",
    "]\n",
    "pool = multiprocessing.Pool(12)\n",
    "results = pool.starmap(parallel_worker, methods)\n",
    "pool.close()\n",
    "pool.join()\n",
    "for result in results:\n",
    "    print_one_line_evaluation_result(result)\n",
    "# print_one_line_evaluation_result(parallel_worker(\"Generalized Linear Model\", regression, ()))"
   ]
  },
  {
   "cell_type": "code",
   "execution_count": 13,
   "metadata": {},
   "outputs": [
    {
     "name": "stdout",
     "output_type": "stream",
     "text": [
      "Result of Teyton et al. 2013 on 185 Library Queries:\n",
      "MRR-C/P = 0.7348993725028208/0.7403047779082262\n",
      "Top   1: Precision = 0.6811, Recall = 0.1630, NDCG = 0.6811, F-Measure = 0.2630\n",
      "Top   2: Precision = 0.5180, Recall = 0.2419, NDCG = 0.6411, F-Measure = 0.3298\n",
      "Top   3: Precision = 0.4516, Recall = 0.3079, NDCG = 0.6489, F-Measure = 0.3662\n",
      "Top   4: Precision = 0.4029, Recall = 0.3571, NDCG = 0.6499, F-Measure = 0.3786\n",
      "Top   5: Precision = 0.3667, Recall = 0.3984, NDCG = 0.6535, F-Measure = 0.3819\n",
      "Top   6: Precision = 0.3509, Recall = 0.4476, NDCG = 0.6663, F-Measure = 0.3934\n",
      "Top   7: Precision = 0.3265, Recall = 0.4748, NDCG = 0.6712, F-Measure = 0.3869\n",
      "Top   8: Precision = 0.3076, Recall = 0.4994, NDCG = 0.6752, F-Measure = 0.3807\n",
      "Top   9: Precision = 0.2960, Recall = 0.5265, NDCG = 0.6833, F-Measure = 0.3790\n",
      "Top  10: Precision = 0.2829, Recall = 0.5446, NDCG = 0.6874, F-Measure = 0.3724\n",
      "Top  20: Precision = 0.2097, Recall = 0.6326, NDCG = 0.7142, F-Measure = 0.3150\n",
      "Top  30: Precision = 0.1819, Recall = 0.6598, NDCG = 0.7243, F-Measure = 0.2852\n",
      "Top  40: Precision = 0.1701, Recall = 0.6714, NDCG = 0.7288, F-Measure = 0.2714\n",
      "Top  50: Precision = 0.1639, Recall = 0.6727, NDCG = 0.7294, F-Measure = 0.2636\n",
      "Top  60: Precision = 0.1606, Recall = 0.6740, NDCG = 0.7297, F-Measure = 0.2593\n",
      "Top  70: Precision = 0.1586, Recall = 0.6740, NDCG = 0.7297, F-Measure = 0.2567\n",
      "Top  80: Precision = 0.1576, Recall = 0.6740, NDCG = 0.7297, F-Measure = 0.2555\n",
      "Top  90: Precision = 0.1566, Recall = 0.6740, NDCG = 0.7297, F-Measure = 0.2542\n",
      "Top 100: Precision = 0.1559, Recall = 0.6740, NDCG = 0.7297, F-Measure = 0.2532\n"
     ]
    }
   ],
   "source": [
    "def teyton_20132(rules):\n",
    "    return rules[rules[\"confTeyton\"]>=0.002].sample(frac=1).sort_values(by=[\"fromLib\", \"confTeyton\"], ascending=[True, False])\n",
    "result = evaluate(\"Teyton et al. 2013\", teyton_20132(rules), possible_rule_set, confirmed_rule_set)\n",
    "print_evaluation_result(result)"
   ]
  },
  {
   "cell_type": "code",
   "execution_count": 14,
   "metadata": {},
   "outputs": [
    {
     "data": {
      "image/png": "[encoded data removed]",
      "text/plain": [
       "<Figure size 2268x216 with 9 Axes>"
      ]
     },
     "metadata": {
      "needs_background": "light"
     },
     "output_type": "display_data"
    }
   ],
   "source": [
    "fig, axes = plt.subplots(1, len(methods), figsize=(3.5 * len(methods), 3))\n",
    "for i, result in enumerate(results):\n",
    "    x = list(range(1, len(result[\"Precision-C@k\"]) + 1))\n",
    "    axes[i].plot(x, result[\"Precision-C@k\"], label=\"Precision@k\")\n",
    "    axes[i].plot(x, result[\"Recall-C@k\"], label=\"Recall@k\")\n",
    "    axes[i].plot(x, result[\"NDCG-C@k\"], label=\"NDCG@k\")\n",
    "    axes[i].set_xlabel(result[\"Name\"])\n",
    "    axes[i].set_ylim([0, 1])\n",
    "    if i == 0:\n",
    "        axes[i].set_ylabel(\"Value\")\n",
    "        axes[i].legend()\n",
    "fig.show()\n",
    "fig.savefig(\"pic/metric-trend.pdf\", bbox_inches=\"tight\")"
   ]
  },
  {
   "cell_type": "code",
   "execution_count": 15,
   "metadata": {},
   "outputs": [
    {
     "name": "stdout",
     "output_type": "stream",
     "text": [
      "[0.2, 1, 1, 1]                : Precision@1 = 0.7684, MRR = 0.8416, Recall@5 = 0.5162, Recall@10 = 0.6818, Recall@20 = 0.8344, NDCG@10 = 0.7451\n",
      "[0.4, 1, 1, 1]                : Precision@1 = 0.7947, MRR = 0.8575, Recall@5 = 0.5291, Recall@10 = 0.6895, Recall@20 = 0.8473, NDCG@10 = 0.7602\n",
      "[0.6, 1, 1, 1]                : Precision@1 = 0.8000, MRR = 0.8595, Recall@5 = 0.5330, Recall@10 = 0.6999, Recall@20 = 0.8629, NDCG@10 = 0.7667\n",
      "[0.8, 1, 1, 1]                : Precision@1 = 0.7947, MRR = 0.8560, Recall@5 = 0.5356, Recall@10 = 0.7063, Recall@20 = 0.8732, NDCG@10 = 0.7701\n",
      "[1.0, 1, 1, 1]                : Precision@1 = 0.7947, MRR = 0.8554, Recall@5 = 0.5343, Recall@10 = 0.7089, Recall@20 = 0.8836, NDCG@10 = 0.7709\n",
      "[1.5, 1, 1, 1]                : Precision@1 = 0.7947, MRR = 0.8538, Recall@5 = 0.5356, Recall@10 = 0.7128, Recall@20 = 0.8771, NDCG@10 = 0.7714\n",
      "[2.0, 1, 1, 1]                : Precision@1 = 0.7895, MRR = 0.8512, Recall@5 = 0.5317, Recall@10 = 0.7128, Recall@20 = 0.8758, NDCG@10 = 0.7697\n",
      "[2.5, 1, 1, 1]                : Precision@1 = 0.7895, MRR = 0.8507, Recall@5 = 0.5291, Recall@10 = 0.7076, Recall@20 = 0.8745, NDCG@10 = 0.7673\n",
      "[3.0, 1, 1, 1]                : Precision@1 = 0.7947, MRR = 0.8530, Recall@5 = 0.5291, Recall@10 = 0.7076, Recall@20 = 0.8693, NDCG@10 = 0.7683\n",
      "[3.5, 1, 1, 1]                : Precision@1 = 0.7947, MRR = 0.8522, Recall@5 = 0.5317, Recall@10 = 0.7076, Recall@20 = 0.8616, NDCG@10 = 0.7672\n",
      "[4.0, 1, 1, 1]                : Precision@1 = 0.7947, MRR = 0.8522, Recall@5 = 0.5317, Recall@10 = 0.7076, Recall@20 = 0.8603, NDCG@10 = 0.7663\n",
      "[1, 0.2, 1, 1]                : Precision@1 = 0.7947, MRR = 0.8509, Recall@5 = 0.5226, Recall@10 = 0.7050, Recall@20 = 0.8732, NDCG@10 = 0.7630\n",
      "[1, 0.4, 1, 1]                : Precision@1 = 0.7842, MRR = 0.8464, Recall@5 = 0.5265, Recall@10 = 0.7012, Recall@20 = 0.8797, NDCG@10 = 0.7569\n",
      "[1, 0.6, 1, 1]                : Precision@1 = 0.7789, MRR = 0.8438, Recall@5 = 0.5304, Recall@10 = 0.7038, Recall@20 = 0.8797, NDCG@10 = 0.7567\n",
      "[1, 0.8, 1, 1]                : Precision@1 = 0.7737, MRR = 0.8417, Recall@5 = 0.5330, Recall@10 = 0.7038, Recall@20 = 0.8823, NDCG@10 = 0.7563\n",
      "[1, 1.0, 1, 1]                : Precision@1 = 0.7737, MRR = 0.8430, Recall@5 = 0.5356, Recall@10 = 0.7038, Recall@20 = 0.8836, NDCG@10 = 0.7576\n",
      "[1, 1.5, 1, 1]                : Precision@1 = 0.7789, MRR = 0.8456, Recall@5 = 0.5369, Recall@10 = 0.7050, Recall@20 = 0.8823, NDCG@10 = 0.7582\n",
      "[1, 2.0, 1, 1]                : Precision@1 = 0.7632, MRR = 0.8378, Recall@5 = 0.5356, Recall@10 = 0.7050, Recall@20 = 0.8836, NDCG@10 = 0.7559\n",
      "[1, 2.5, 1, 1]                : Precision@1 = 0.7579, MRR = 0.8327, Recall@5 = 0.5343, Recall@10 = 0.7050, Recall@20 = 0.8836, NDCG@10 = 0.7544\n",
      "[1, 3.0, 1, 1]                : Precision@1 = 0.7579, MRR = 0.8327, Recall@5 = 0.5356, Recall@10 = 0.7050, Recall@20 = 0.8836, NDCG@10 = 0.7543\n",
      "[1, 3.5, 1, 1]                : Precision@1 = 0.7474, MRR = 0.8274, Recall@5 = 0.5356, Recall@10 = 0.7025, Recall@20 = 0.8836, NDCG@10 = 0.7514\n",
      "[1, 4.0, 1, 1]                : Precision@1 = 0.7474, MRR = 0.8274, Recall@5 = 0.5317, Recall@10 = 0.7012, Recall@20 = 0.8836, NDCG@10 = 0.7506\n",
      "[1, 1, 0.2, 1]                : Precision@1 = 0.7789, MRR = 0.8444, Recall@5 = 0.5369, Recall@10 = 0.7102, Recall@20 = 0.8706, NDCG@10 = 0.7584\n",
      "[1, 1, 0.4, 1]                : Precision@1 = 0.7789, MRR = 0.8448, Recall@5 = 0.5395, Recall@10 = 0.7128, Recall@20 = 0.8771, NDCG@10 = 0.7609\n",
      "[1, 1, 0.6, 1]                : Precision@1 = 0.7842, MRR = 0.8471, Recall@5 = 0.5356, Recall@10 = 0.7193, Recall@20 = 0.8719, NDCG@10 = 0.7692\n",
      "[1, 1, 0.8, 1]                : Precision@1 = 0.7895, MRR = 0.8493, Recall@5 = 0.5343, Recall@10 = 0.7154, Recall@20 = 0.8745, NDCG@10 = 0.7688\n",
      "[1, 1, 1.0, 1]                : Precision@1 = 0.7895, MRR = 0.8503, Recall@5 = 0.5343, Recall@10 = 0.7089, Recall@20 = 0.8745, NDCG@10 = 0.7670\n",
      "[1, 1, 1.5, 1]                : Precision@1 = 0.7789, MRR = 0.8440, Recall@5 = 0.5265, Recall@10 = 0.7012, Recall@20 = 0.8616, NDCG@10 = 0.7586\n",
      "[1, 1, 2.0, 1]                : Precision@1 = 0.7737, MRR = 0.8420, Recall@5 = 0.5291, Recall@10 = 0.6818, Recall@20 = 0.8435, NDCG@10 = 0.7493\n",
      "[1, 1, 2.5, 1]                : Precision@1 = 0.7632, MRR = 0.8332, Recall@5 = 0.5239, Recall@10 = 0.6766, Recall@20 = 0.8331, NDCG@10 = 0.7414\n",
      "[1, 1, 3.0, 1]                : Precision@1 = 0.7526, MRR = 0.8195, Recall@5 = 0.5071, Recall@10 = 0.6701, Recall@20 = 0.8228, NDCG@10 = 0.7248\n",
      "[1, 1, 3.5, 1]                : Precision@1 = 0.7368, MRR = 0.8032, Recall@5 = 0.4968, Recall@10 = 0.6611, Recall@20 = 0.8176, NDCG@10 = 0.7102\n",
      "[1, 1, 4.0, 1]                : Precision@1 = 0.7368, MRR = 0.8007, Recall@5 = 0.4903, Recall@10 = 0.6533, Recall@20 = 0.8072, NDCG@10 = 0.7049\n",
      "[1, 1, 1, 0.2]                : Precision@1 = 0.7842, MRR = 0.8484, Recall@5 = 0.5369, Recall@10 = 0.7128, Recall@20 = 0.8719, NDCG@10 = 0.7656\n",
      "[1, 1, 1, 0.4]                : Precision@1 = 0.7842, MRR = 0.8480, Recall@5 = 0.5343, Recall@10 = 0.7115, Recall@20 = 0.8758, NDCG@10 = 0.7652\n",
      "[1, 1, 1, 0.6]                : Precision@1 = 0.7895, MRR = 0.8504, Recall@5 = 0.5330, Recall@10 = 0.7089, Recall@20 = 0.8771, NDCG@10 = 0.7662\n",
      "[1, 1, 1, 0.8]                : Precision@1 = 0.7842, MRR = 0.8478, Recall@5 = 0.5343, Recall@10 = 0.7089, Recall@20 = 0.8836, NDCG@10 = 0.7640\n",
      "[1, 1, 1, 1.0]                : Precision@1 = 0.7842, MRR = 0.8477, Recall@5 = 0.5343, Recall@10 = 0.7076, Recall@20 = 0.8836, NDCG@10 = 0.7640\n",
      "[1, 1, 1, 1.5]                : Precision@1 = 0.7895, MRR = 0.8498, Recall@5 = 0.5343, Recall@10 = 0.7115, Recall@20 = 0.8719, NDCG@10 = 0.7652\n",
      "[1, 1, 1, 2.0]                : Precision@1 = 0.7895, MRR = 0.8513, Recall@5 = 0.5278, Recall@10 = 0.7141, Recall@20 = 0.8706, NDCG@10 = 0.7665\n",
      "[1, 1, 1, 2.5]                : Precision@1 = 0.7947, MRR = 0.8539, Recall@5 = 0.5265, Recall@10 = 0.7128, Recall@20 = 0.8680, NDCG@10 = 0.7647\n",
      "[1, 1, 1, 3.0]                : Precision@1 = 0.7842, MRR = 0.8487, Recall@5 = 0.5252, Recall@10 = 0.7102, Recall@20 = 0.8655, NDCG@10 = 0.7592\n",
      "[1, 1, 1, 3.5]                : Precision@1 = 0.7895, MRR = 0.8513, Recall@5 = 0.5252, Recall@10 = 0.7128, Recall@20 = 0.8629, NDCG@10 = 0.7621\n",
      "[1, 1, 1, 4.0]                : Precision@1 = 0.7895, MRR = 0.8513, Recall@5 = 0.5239, Recall@10 = 0.7102, Recall@20 = 0.8603, NDCG@10 = 0.7613\n"
     ]
    }
   ],
   "source": [
    "vals = [0.2, 0.4, 0.6, 0.8, 1.0, 1.5, 2.0, 2.5, 3.0, 3.5, 4.0]\n",
    "params = []\n",
    "for loc in range(0, 4):\n",
    "    for i in vals:\n",
    "        param = [1, 1, 1, 1]\n",
    "        param[loc] = i\n",
    "        params.append((str(param), method, param))\n",
    "pool = multiprocessing.Pool(12)\n",
    "results = pool.starmap(parallel_worker, params)\n",
    "pool.close()\n",
    "for result in results:\n",
    "    print_one_line_evaluation_result(result)"
   ]
  },
  {
   "cell_type": "code",
   "execution_count": null,
   "metadata": {},
   "outputs": [],
   "source": []
  }
 ],
 "metadata": {
  "kernelspec": {
   "display_name": "Python 3",
   "language": "python",
   "name": "python3"
  },
  "language_info": {
   "codemirror_mode": {
    "name": "ipython",
    "version": 3
   },
   "file_extension": ".py",
   "mimetype": "text/x-python",
   "name": "python",
   "nbconvert_exporter": "python",
   "pygments_lexer": "ipython3",
   "version": "3.7.4"
  }
 },
 "nbformat": 4,
 "nbformat_minor": 4
}
